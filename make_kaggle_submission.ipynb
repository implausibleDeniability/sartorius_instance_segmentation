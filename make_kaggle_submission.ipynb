{
 "cells": [
  {
   "cell_type": "code",
   "execution_count": 71,
   "metadata": {
    "collapsed": true
   },
   "outputs": [
    {
     "data": {
      "text/plain": "PosixPath('/home/shamil/PycharmProjects/sartorius_instance_segmentation')"
     },
     "execution_count": 71,
     "metadata": {},
     "output_type": "execute_result"
    }
   ],
   "source": [
    "import sys\n",
    "from pathlib import Path\n",
    "\n",
    "import numpy as np\n",
    "import skimage.io as io\n",
    "import matplotlib.pyplot as plt\n",
    "import torch\n",
    "from torchvision.models.detection import maskrcnn_resnet50_fpn\n",
    "import albumentations as A\n",
    "from albumentations.pytorch import ToTensorV2\n",
    "from src.visualization import tensor_to_image\n",
    "from skimage.color import gray2rgb\n",
    "from torchvision.ops import nms\n",
    "from pytorch_toolbelt.utils import to_numpy\n",
    "\n",
    "current_dir = Path(\".\")\n",
    "current_dir.absolute()"
   ]
  },
  {
   "cell_type": "code",
   "execution_count": 72,
   "outputs": [],
   "source": [
    "# plt.rcParams[\"figure.figsize\"] = (20,20)\n",
    "\n",
    "# Global config of configuration\n",
    "test_images_dir = current_dir / \"data\" / \"test\"\n",
    "weights_dir = current_dir / \"weights\" / \"baseline.ckpt\"\n",
    "device = \"cpu\"\n",
    "\n",
    "# Local tunable parameters of evaluation\n",
    "score_threshold = 0.0  # All predictions would be counted, even with low score\n",
    "nms_threshold = 0.1  # Overlapping instances will be dropped, lower - lower overlap is permitted\n",
    "mask_threshold = 0.5  # Cut masks by the threshold"
   ],
   "metadata": {
    "collapsed": false,
    "pycharm": {
     "name": "#%%\n"
    }
   }
  },
  {
   "cell_type": "code",
   "execution_count": 73,
   "outputs": [],
   "source": [
    "preprocess_image = A.Compose([\n",
    "    A.Normalize(mean=(0.485,), std=(0.229,)),\n",
    "    ToTensorV2(),\n",
    "])"
   ],
   "metadata": {
    "collapsed": false,
    "pycharm": {
     "name": "#%%\n"
    }
   }
  },
  {
   "cell_type": "code",
   "execution_count": 74,
   "outputs": [],
   "source": [
    "## Visualising utils\n",
    "\n",
    "def display_masks(im, masks):\n",
    "    im = tensor_to_image(im)\n",
    "    im = gray2rgb(im[:, :, 0])\n",
    "\n",
    "    print(im.shape, masks.shape)\n",
    "    print(masks.sum())\n",
    "\n",
    "    for mask in masks:\n",
    "        im[mask == 1.] = (255, 0, 0)\n",
    "\n",
    "    plt.imshow(im)\n",
    "    plt.show()\n",
    "\n",
    "\n",
    "\n",
    "\n",
    "\n"
   ],
   "metadata": {
    "collapsed": false,
    "pycharm": {
     "name": "#%%\n"
    }
   }
  },
  {
   "cell_type": "code",
   "execution_count": 74,
   "outputs": [],
   "source": [
    "\n"
   ],
   "metadata": {
    "collapsed": false,
    "pycharm": {
     "name": "#%%\n"
    }
   }
  },
  {
   "cell_type": "code",
   "execution_count": 75,
   "outputs": [
    {
     "name": "stdout",
     "output_type": "stream",
     "text": [
      "/home/shamil/PycharmProjects/sartorius_instance_segmentation/data/test/d8bfd1dafdc4.png\n",
      "{'boxes': tensor([[5.6995e+02, 2.9887e+02, 7.0399e+02, 4.5029e+02],\n",
      "        [7.0717e+01, 2.9730e-03, 2.2141e+02, 7.5883e+01],\n",
      "        [5.0755e+02, 4.2367e+02, 6.5824e+02, 5.2000e+02],\n",
      "        [3.7642e-03, 2.9730e-03, 1.3820e+02, 7.5883e+01],\n",
      "        [6.1155e+02, 4.2367e+02, 7.0399e+02, 5.2000e+02],\n",
      "        [2.7873e+02, 4.6021e-03, 4.2942e+02, 1.1749e+02],\n",
      "        [2.6335e-03, 2.8469e+01, 9.6604e+01, 1.7989e+02],\n",
      "        [8.3125e+00, 3.1967e+02, 1.5900e+02, 4.7109e+02],\n",
      "        [1.1232e+02, 2.8469e+01, 2.6301e+02, 1.7989e+02],\n",
      "        [5.9075e+02, 2.8469e+01, 7.0399e+02, 1.7989e+02],\n",
      "        [2.0631e-03, 3.1967e+02, 7.5804e+01, 4.7109e+02],\n",
      "        [8.3125e+00, 4.9269e+01, 1.5900e+02, 2.0069e+02],\n",
      "        [4.8675e+02, 2.9887e+02, 6.3744e+02, 4.5029e+02],\n",
      "        [2.7873e+02, 3.1967e+02, 4.2942e+02, 4.7109e+02],\n",
      "        [2.7873e+02, 2.8469e+01, 4.2942e+02, 1.7989e+02],\n",
      "        [4.2434e+02, 3.4047e+02, 5.7503e+02, 4.9189e+02],\n",
      "        [1.7472e+02, 3.4047e+02, 3.2542e+02, 4.9189e+02],\n",
      "        [3.4114e+02, 7.6692e+00, 4.9183e+02, 1.5909e+02],\n",
      "        [5.8228e+01, 7.5384e+00, 3.5961e+02, 3.1039e+02],\n",
      "        [1.8304e+02, 4.7188e+01, 4.8442e+02, 3.5004e+02],\n",
      "        [3.9105e+02, 4.7188e+01, 6.9243e+02, 3.5004e+02],\n",
      "        [5.2669e-03, 8.6838e+01, 1.9321e+02, 3.8969e+02],\n",
      "        [3.0785e+02, 1.0612e-02, 6.0923e+02, 2.7073e+02],\n",
      "        [4.8675e+02, 1.1167e+02, 6.3744e+02, 2.6309e+02],\n",
      "        [4.1263e-03, 7.5384e+00, 1.5161e+02, 3.1039e+02],\n",
      "        [2.5793e+02, 9.0869e+01, 4.0862e+02, 2.4229e+02],\n",
      "        [9.1518e+01, 9.0869e+01, 2.4221e+02, 2.4229e+02],\n",
      "        [4.4514e+02, 2.5727e+02, 5.9584e+02, 4.0869e+02],\n",
      "        [2.9953e+02, 2.5727e+02, 4.5022e+02, 4.0869e+02],\n",
      "        [4.2434e+02, 4.2367e+02, 5.7503e+02, 5.2000e+02],\n",
      "        [2.3713e+02, 2.9730e-03, 3.8782e+02, 7.5883e+01],\n",
      "        [3.4114e+02, 4.2367e+02, 4.9183e+02, 5.2000e+02],\n",
      "        [3.8274e+02, 3.7888e-03, 5.3343e+02, 9.6686e+01],\n",
      "        [1.5392e+02, 2.9730e-03, 3.0461e+02, 7.5883e+01],\n",
      "        [6.1155e+02, 2.9730e-03, 7.0399e+02, 7.5883e+01],\n",
      "        [2.6335e-03, 4.2367e+02, 9.6604e+01, 5.2000e+02],\n",
      "        [2.9114e+01, 4.2367e+02, 1.7981e+02, 5.2000e+02],\n",
      "        [5.0755e+02, 2.9730e-03, 6.5824e+02, 7.5883e+01],\n",
      "        [2.7873e+02, 4.2367e+02, 4.2942e+02, 5.2000e+02],\n",
      "        [4.0354e+02, 2.8469e+01, 5.5423e+02, 1.7989e+02],\n",
      "        [9.1518e+01, 3.1967e+02, 2.4221e+02, 4.7109e+02],\n",
      "        [4.6595e+02, 2.8469e+01, 6.1664e+02, 1.7989e+02],\n",
      "        [3.6194e+02, 3.1967e+02, 5.1263e+02, 4.7109e+02],\n",
      "        [1.5392e+02, 1.1167e+02, 3.0461e+02, 2.6309e+02],\n",
      "        [1.9553e+02, 2.8469e+01, 3.4622e+02, 1.7989e+02],\n",
      "        [1.7472e+02, 4.0287e+02, 3.2542e+02, 5.2000e+02],\n",
      "        [3.2033e+02, 2.9730e-03, 4.7103e+02, 7.5883e+01],\n",
      "        [3.9105e+02, 2.0579e+02, 6.9243e+02, 5.0864e+02],\n",
      "        [1.5392e+02, 1.9487e+02, 3.0461e+02, 3.4629e+02],\n",
      "        [2.6335e-03, 2.1567e+02, 9.6604e+01, 3.6709e+02],\n",
      "        [6.1155e+02, 1.3247e+02, 7.0399e+02, 2.8389e+02],\n",
      "        [2.0631e-03, 1.5327e+02, 7.5804e+01, 3.0469e+02],\n",
      "        [5.6995e+02, 1.9487e+02, 7.0399e+02, 3.4629e+02],\n",
      "        [2.9114e+01, 1.5327e+02, 1.7981e+02, 3.0469e+02],\n",
      "        [4.8675e+02, 1.9487e+02, 6.3744e+02, 3.4629e+02],\n",
      "        [1.1232e+02, 1.5327e+02, 2.6301e+02, 3.0469e+02],\n",
      "        [4.2434e+02, 1.9487e+02, 5.7503e+02, 3.4629e+02],\n",
      "        [6.3977e-03, 5.9460e-03, 2.3481e+02, 1.5177e+02],\n",
      "        [2.6624e+02, 2.8509e+02, 5.6763e+02, 5.2000e+02],\n",
      "        [5.1586e+02, 2.8509e+02, 7.0399e+02, 5.2000e+02],\n",
      "        [1.7472e+02, 2.5727e+02, 3.2542e+02, 4.0869e+02],\n",
      "        [1.4143e+02, 2.4544e+02, 4.4282e+02, 5.2000e+02],\n",
      "        [5.8228e+01, 3.2473e+02, 3.5961e+02, 5.2000e+02],\n",
      "        [1.4143e+02, 7.4982e-03, 4.4282e+02, 1.9142e+02],\n",
      "        [4.3265e+02, 5.9460e-03, 7.0398e+02, 1.5177e+02],\n",
      "        [7.0717e+01, 2.3647e+02, 2.2141e+02, 3.8789e+02],\n",
      "        [2.5793e+02, 1.7407e+02, 4.0862e+02, 3.2549e+02],\n",
      "        [5.2835e+02, 1.5327e+02, 6.7904e+02, 3.0469e+02],\n",
      "        [8.3125e+00, 1.9487e+02, 1.5900e+02, 3.4629e+02],\n",
      "        [3.8274e+02, 1.5327e+02, 5.3343e+02, 3.0469e+02],\n",
      "        [3.6194e+02, 1.9487e+02, 5.1263e+02, 3.4629e+02],\n",
      "        [1.9553e+02, 1.5327e+02, 3.4622e+02, 3.0469e+02],\n",
      "        [3.2033e+02, 1.5327e+02, 4.7103e+02, 3.0469e+02],\n",
      "        [3.1989e-03, 2.7807e+02, 1.1740e+02, 4.2949e+02],\n",
      "        [2.6335e-03, 9.0869e+01, 9.6604e+01, 2.4229e+02],\n",
      "        [6.1155e+02, 2.5727e+02, 7.0399e+02, 4.0869e+02],\n",
      "        [5.4915e+02, 7.0069e+01, 6.9984e+02, 2.2149e+02],\n",
      "        [5.2835e+02, 2.3647e+02, 6.7904e+02, 3.8789e+02],\n",
      "        [3.8274e+02, 2.3647e+02, 5.3343e+02, 3.8789e+02],\n",
      "        [5.1586e+02, 7.5384e+00, 7.0399e+02, 3.1039e+02],\n",
      "        [2.2464e+02, 1.6614e+02, 5.2602e+02, 4.6899e+02],\n",
      "        [4.1263e-03, 2.0579e+02, 1.5161e+02, 5.0864e+02],\n",
      "        [9.9831e+01, 1.2649e+02, 4.0121e+02, 4.2934e+02],\n",
      "        [4.7426e+02, 1.2649e+02, 7.0398e+02, 4.2934e+02],\n",
      "        [3.2866e+02, 3.7162e-04, 3.4750e+02, 9.4854e+00],\n",
      "        [3.9107e+02, 5.7526e-04, 4.0990e+02, 1.4686e+01],\n",
      "        [3.3906e+02, 3.7162e-04, 3.5790e+02, 9.4854e+00],\n",
      "        [6.8749e+02, 3.7162e-04, 7.0400e+02, 9.4854e+00],\n",
      "        [3.2086e+02, 4.7359e-04, 3.3970e+02, 1.2086e+01],\n",
      "        [4.0927e+02, 5.7526e-04, 4.2810e+02, 1.4686e+01],\n",
      "        [6.6669e+02, 5.7526e-04, 6.8552e+02, 1.4686e+01],\n",
      "        [5.0547e+02, 5.7526e-04, 5.2431e+02, 1.4686e+01],\n",
      "        [4.2227e+02, 5.7526e-04, 4.4111e+02, 1.4686e+01],\n",
      "        [6.7709e+02, 3.7162e-04, 6.9592e+02, 9.4854e+00],\n",
      "        [4.3007e+02, 5.7526e-04, 4.4891e+02, 1.4686e+01],\n",
      "        [4.4047e+02, 5.7526e-04, 4.5931e+02, 1.4686e+01],\n",
      "        [4.5347e+02, 5.7526e-04, 4.7231e+02, 1.4686e+01],\n",
      "        [4.6907e+02, 5.7526e-04, 4.8791e+02, 1.4686e+01],\n",
      "        [2.7041e+01, 6.7754e-04, 4.5877e+01, 1.7286e+01],\n",
      "        [1.0391e+00, 6.7754e-04, 1.9876e+01, 1.7286e+01]]), 'labels': tensor([1, 1, 1, 1, 1, 1, 1, 1, 1, 1, 1, 1, 1, 1, 1, 1, 1, 1, 1, 1, 1, 1, 1, 1,\n",
      "        1, 1, 1, 1, 1, 1, 1, 1, 1, 1, 1, 1, 1, 1, 1, 1, 1, 1, 1, 1, 1, 1, 1, 1,\n",
      "        1, 1, 1, 1, 1, 1, 1, 1, 1, 1, 1, 1, 1, 1, 1, 1, 1, 1, 1, 1, 1, 1, 1, 1,\n",
      "        1, 1, 1, 1, 1, 1, 1, 1, 1, 1, 1, 1, 1, 1, 1, 1, 1, 1, 1, 1, 1, 1, 1, 1,\n",
      "        1, 1, 1, 1]), 'scores': tensor([0.1438, 0.1438, 0.1438, 0.1438, 0.1438, 0.1438, 0.1438, 0.1438, 0.1438,\n",
      "        0.1438, 0.1438, 0.1438, 0.1438, 0.1438, 0.1438, 0.1438, 0.1438, 0.1438,\n",
      "        0.1438, 0.1438, 0.1438, 0.1438, 0.1438, 0.1438, 0.1438, 0.1438, 0.1438,\n",
      "        0.1438, 0.1438, 0.1438, 0.1438, 0.1438, 0.1438, 0.1438, 0.1438, 0.1438,\n",
      "        0.1438, 0.1438, 0.1438, 0.1438, 0.1438, 0.1438, 0.1438, 0.1438, 0.1438,\n",
      "        0.1438, 0.1438, 0.1438, 0.1438, 0.1438, 0.1438, 0.1438, 0.1438, 0.1438,\n",
      "        0.1438, 0.1438, 0.1438, 0.1438, 0.1438, 0.1438, 0.1438, 0.1438, 0.1438,\n",
      "        0.1438, 0.1438, 0.1438, 0.1438, 0.1438, 0.1438, 0.1438, 0.1438, 0.1438,\n",
      "        0.1438, 0.1438, 0.1438, 0.1438, 0.1438, 0.1438, 0.1438, 0.1438, 0.1438,\n",
      "        0.1438, 0.1438, 0.1438, 0.1438, 0.1438, 0.1438, 0.1438, 0.1438, 0.1438,\n",
      "        0.1438, 0.1438, 0.1438, 0.1438, 0.1438, 0.1438, 0.1438, 0.1438, 0.1438,\n",
      "        0.1438]), 'masks': tensor([[[[0.0000, 0.0000, 0.0000,  ..., 0.0000, 0.0000, 0.0000],\n",
      "          [0.0000, 0.0000, 0.0000,  ..., 0.0000, 0.0000, 0.0000],\n",
      "          [0.0000, 0.0000, 0.0000,  ..., 0.0000, 0.0000, 0.0000],\n",
      "          ...,\n",
      "          [0.0000, 0.0000, 0.0000,  ..., 0.0000, 0.0000, 0.0000],\n",
      "          [0.0000, 0.0000, 0.0000,  ..., 0.0000, 0.0000, 0.0000],\n",
      "          [0.0000, 0.0000, 0.0000,  ..., 0.0000, 0.0000, 0.0000]]],\n",
      "\n",
      "\n",
      "        [[[0.0000, 0.0000, 0.0000,  ..., 0.0000, 0.0000, 0.0000],\n",
      "          [0.0000, 0.0000, 0.0000,  ..., 0.0000, 0.0000, 0.0000],\n",
      "          [0.0000, 0.0000, 0.0000,  ..., 0.0000, 0.0000, 0.0000],\n",
      "          ...,\n",
      "          [0.0000, 0.0000, 0.0000,  ..., 0.0000, 0.0000, 0.0000],\n",
      "          [0.0000, 0.0000, 0.0000,  ..., 0.0000, 0.0000, 0.0000],\n",
      "          [0.0000, 0.0000, 0.0000,  ..., 0.0000, 0.0000, 0.0000]]],\n",
      "\n",
      "\n",
      "        [[[0.0000, 0.0000, 0.0000,  ..., 0.0000, 0.0000, 0.0000],\n",
      "          [0.0000, 0.0000, 0.0000,  ..., 0.0000, 0.0000, 0.0000],\n",
      "          [0.0000, 0.0000, 0.0000,  ..., 0.0000, 0.0000, 0.0000],\n",
      "          ...,\n",
      "          [0.0000, 0.0000, 0.0000,  ..., 0.0000, 0.0000, 0.0000],\n",
      "          [0.0000, 0.0000, 0.0000,  ..., 0.0000, 0.0000, 0.0000],\n",
      "          [0.0000, 0.0000, 0.0000,  ..., 0.0000, 0.0000, 0.0000]]],\n",
      "\n",
      "\n",
      "        ...,\n",
      "\n",
      "\n",
      "        [[[0.0000, 0.0000, 0.0000,  ..., 0.0000, 0.0000, 0.0000],\n",
      "          [0.0000, 0.0000, 0.0000,  ..., 0.0000, 0.0000, 0.0000],\n",
      "          [0.0000, 0.0000, 0.0000,  ..., 0.0000, 0.0000, 0.0000],\n",
      "          ...,\n",
      "          [0.0000, 0.0000, 0.0000,  ..., 0.0000, 0.0000, 0.0000],\n",
      "          [0.0000, 0.0000, 0.0000,  ..., 0.0000, 0.0000, 0.0000],\n",
      "          [0.0000, 0.0000, 0.0000,  ..., 0.0000, 0.0000, 0.0000]]],\n",
      "\n",
      "\n",
      "        [[[0.0000, 0.0000, 0.0000,  ..., 0.0000, 0.0000, 0.0000],\n",
      "          [0.0000, 0.0000, 0.0000,  ..., 0.0000, 0.0000, 0.0000],\n",
      "          [0.0000, 0.0000, 0.0000,  ..., 0.0000, 0.0000, 0.0000],\n",
      "          ...,\n",
      "          [0.0000, 0.0000, 0.0000,  ..., 0.0000, 0.0000, 0.0000],\n",
      "          [0.0000, 0.0000, 0.0000,  ..., 0.0000, 0.0000, 0.0000],\n",
      "          [0.0000, 0.0000, 0.0000,  ..., 0.0000, 0.0000, 0.0000]]],\n",
      "\n",
      "\n",
      "        [[[0.0428, 0.2012, 0.2000,  ..., 0.0000, 0.0000, 0.0000],\n",
      "          [0.1294, 0.6078, 0.6044,  ..., 0.0000, 0.0000, 0.0000],\n",
      "          [0.1291, 0.6064, 0.6030,  ..., 0.0000, 0.0000, 0.0000],\n",
      "          ...,\n",
      "          [0.0000, 0.0000, 0.0000,  ..., 0.0000, 0.0000, 0.0000],\n",
      "          [0.0000, 0.0000, 0.0000,  ..., 0.0000, 0.0000, 0.0000],\n",
      "          [0.0000, 0.0000, 0.0000,  ..., 0.0000, 0.0000, 0.0000]]]])}\n",
      "found 100 instances!\n",
      "After mask thresholding survived 100 instances\n",
      "After confidence thresholding survived 100 instances\n",
      "Finally survived 26 instances! Displaying them...\n"
     ]
    },
    {
     "data": {
      "text/plain": "<Figure size 432x288 with 1 Axes>",
      "image/png": "[encoded data removed]"
     },
     "metadata": {
      "needs_background": "light"
     },
     "output_type": "display_data"
    },
    {
     "data": {
      "text/plain": "<Figure size 432x288 with 1 Axes>",
      "image/png": "[encoded data removed]"
     },
     "metadata": {
      "needs_background": "light"
     },
     "output_type": "display_data"
    },
    {
     "data": {
      "text/plain": "<Figure size 432x288 with 1 Axes>",
      "image/png": "[encoded data removed]"
     },
     "metadata": {
      "needs_background": "light"
     },
     "output_type": "display_data"
    },
    {
     "data": {
      "text/plain": "<Figure size 432x288 with 1 Axes>",
      "image/png": "[encoded data removed]"
     },
     "metadata": {
      "needs_background": "light"
     },
     "output_type": "display_data"
    },
    {
     "data": {
      "text/plain": "<Figure size 432x288 with 1 Axes>",
      "image/png": "[encoded data removed]"
     },
     "metadata": {
      "needs_background": "light"
     },
     "output_type": "display_data"
    },
    {
     "data": {
      "text/plain": "<Figure size 432x288 with 1 Axes>",
      "image/png": "[encoded data removed]"
     },
     "metadata": {
      "needs_background": "light"
     },
     "output_type": "display_data"
    },
    {
     "data": {
      "text/plain": "<Figure size 432x288 with 1 Axes>",
      "image/png": "[encoded data removed]"
     },
     "metadata": {
      "needs_background": "light"
     },
     "output_type": "display_data"
    },
    {
     "data": {
      "text/plain": "<Figure size 432x288 with 1 Axes>",
      "image/png": "[encoded data removed]"
     },
     "metadata": {
      "needs_background": "light"
     },
     "output_type": "display_data"
    },
    {
     "data": {
      "text/plain": "<Figure size 432x288 with 1 Axes>",
      "image/png": "[encoded data removed]"
     },
     "metadata": {
      "needs_background": "light"
     },
     "output_type": "display_data"
    },
    {
     "data": {
      "text/plain": "<Figure size 432x288 with 1 Axes>",
      "image/png": "[encoded data removed]"
     },
     "metadata": {
      "needs_background": "light"
     },
     "output_type": "display_data"
    },
    {
     "ename": "SystemExit",
     "evalue": "0",
     "output_type": "error",
     "traceback": [
      "An exception has occurred, use %tb to see the full traceback.\n",
      "\u001B[0;31mSystemExit\u001B[0m\u001B[0;31m:\u001B[0m 0\n"
     ]
    }
   ],
   "source": [
    "model = maskrcnn_resnet50_fpn(progress=False, num_classes=2)\n",
    "model.load_state_dict(torch.load(weights_dir, map_location=torch.device(\"cpu\")))\n",
    "model.to(device)\n",
    "model.eval()\n",
    "\n",
    "for image_path in test_images_dir.glob(\"**/*.png\"):\n",
    "    print(image_path.absolute())\n",
    "    image = io.imread(str(image_path))\n",
    "    image = preprocess_image(image=image)['image']\n",
    "    image = image.to(device)\n",
    "\n",
    "    with torch.no_grad():\n",
    "        output = model.forward([image])[0]\n",
    "\n",
    "    print(output)\n",
    "    scores = output['scores'].detach().cpu()\n",
    "    masks = output['masks'].squeeze().detach().cpu()\n",
    "    boxes = output['boxes'].detach().cpu()\n",
    "\n",
    "    print(f\"found {len(boxes)} instances!\")\n",
    "\n",
    "    masks = (masks >= mask_threshold).int()\n",
    "\n",
    "    # Now some masks can be empty (all zeros), we need to exclude them\n",
    "    indices = torch.as_tensor([torch.sum(mask) > 0 for mask in masks])\n",
    "    masks, boxes, scores = masks[indices], boxes[indices], scores[indices]\n",
    "\n",
    "    print(f\"After mask thresholding survived {len(masks)} instances\")\n",
    "\n",
    "    indices = scores >= score_threshold\n",
    "    masks, boxes, scores = masks[indices], boxes[indices], scores\n",
    "\n",
    "    print(f\"After confidence thresholding survived {len(masks)} instances\")\n",
    "\n",
    "    indices = nms(boxes, scores, nms_threshold)\n",
    "    masks, boxes, scores = masks[indices], boxes[indices], scores[indices]\n",
    "\n",
    "\n",
    "    print(f\"Finally survived {len(masks)} instances! Displaying them...\")\n",
    "\n",
    "\n",
    "    # Display masks\n",
    "    for ii in range(10):\n",
    "        plt.imshow(masks[ii])\n",
    "        plt.show()\n",
    "\n",
    "    # display_masks(image, masks)\n",
    "\n",
    "    sys.exit(0)\n",
    "\n"
   ],
   "metadata": {
    "collapsed": false,
    "pycharm": {
     "name": "#%%\n"
    }
   }
  },
  {
   "cell_type": "code",
   "execution_count": null,
   "outputs": [],
   "source": [],
   "metadata": {
    "collapsed": false,
    "pycharm": {
     "name": "#%%\n"
    }
   }
  }
 ],
 "metadata": {
  "kernelspec": {
   "display_name": "Python 3",
   "language": "python",
   "name": "python3"
  },
  "language_info": {
   "codemirror_mode": {
    "name": "ipython",
    "version": 2
   },
   "file_extension": ".py",
   "mimetype": "text/x-python",
   "name": "python",
   "nbconvert_exporter": "python",
   "pygments_lexer": "ipython2",
   "version": "2.7.6"
  }
 },
 "nbformat": 4,
 "nbformat_minor": 0
}