{
 "cells": [
  {
   "cell_type": "code",
   "execution_count": 1,
   "id": "586b6638-b7a1-4f27-8384-8a5396861128",
   "metadata": {},
   "outputs": [
    {
     "data": {
      "text/plain": [
       "True"
      ]
     },
     "execution_count": 1,
     "metadata": {},
     "output_type": "execute_result"
    }
   ],
   "source": [
    "import sys\n",
    "import os\n",
    "from pathlib import Path\n",
    "import numpy as np\n",
    "import pandas as pd\n",
    "import skimage.io as io\n",
    "import torch\n",
    "import time\n",
    "from torch.utils.data import DataLoader\n",
    "from torchvision.models.detection import maskrcnn_resnet50_fpn\n",
    "from torchvision.ops.boxes import nms\n",
    "import albumentations as A\n",
    "from albumentations.pytorch import ToTensorV2\n",
    "from pytorch_toolbelt.utils import to_numpy, rle_encode\n",
    "from dotenv import load_dotenv\n",
    "from easydict import EasyDict\n",
    "from tqdm import tqdm\n",
    "\n",
    "from src.visualization import plot_two_masks, plot_mask_bbox\n",
    "from src.postprocessing import remove_overlapping_pixels, postprocess_predictions\n",
    "from src.dataset import CellDataset\n",
    "from src.augmentations import train_transform\n",
    "from src.utils import images2device, targets2device\n",
    "from src.iou_metric import fast_iou\n",
    "\n",
    "current_dir = Path(\".\")\n",
    "load_dotenv()"
   ]
  },
  {
   "cell_type": "code",
   "execution_count": 2,
   "id": "f7289851-d65a-4ded-bb36-1da6636360f2",
   "metadata": {},
   "outputs": [],
   "source": [
    "weights_name = 'maskrcnn-first_baseline_with_metric-2021-12-14 08:32:09.520121.ckpt'\n",
    "weights_path = Path(\"weights\") / weights_name"
   ]
  },
  {
   "cell_type": "code",
   "execution_count": 3,
   "id": "14ea3c01-e29c-48d8-9bbc-284bbbd05abe",
   "metadata": {},
   "outputs": [],
   "source": [
    "device = 'cuda:1'\n",
    "config = EasyDict(\n",
    "    dataset_path=Path(os.environ[\"dataset_path\"]),\n",
    "    device=\"cuda:1\",\n",
    "    val_size=0.2,\n",
    "    batch_size=6,\n",
    "    num_workers=30,\n",
    "    epochs=1,\n",
    "    mask_threshold=0.5,\n",
    "    score_threshold=0.2,\n",
    "    nms_threshold=None,\n",
    ")"
   ]
  },
  {
   "cell_type": "code",
   "execution_count": 4,
   "id": "4b09e85e-e5f1-40c5-8e04-def406e41e09",
   "metadata": {},
   "outputs": [
    {
     "name": "stdout",
     "output_type": "stream",
     "text": [
      "\n"
     ]
    }
   ],
   "source": [
    "model = maskrcnn_resnet50_fpn(progress=False, num_classes=2)\n",
    "model.load_state_dict(torch.load(weights_path, map_location=torch.device(device)))\n",
    "model.to(device)\n",
    "model.eval()\n",
    "print()"
   ]
  },
  {
   "cell_type": "code",
   "execution_count": 5,
   "id": "f6d23cdb-abea-4f01-b49a-4f0336511747",
   "metadata": {},
   "outputs": [],
   "source": [
    "train_dataloader = DataLoader(\n",
    "    dataset=CellDataset(cfg=config, mode=\"train\", transform=train_transform),\n",
    "    num_workers=30,\n",
    "    batch_size=config.batch_size,\n",
    "    shuffle=True,\n",
    "    collate_fn=lambda x: tuple(zip(*x)),\n",
    ")"
   ]
  },
  {
   "cell_type": "code",
   "execution_count": 9,
   "id": "8c7a59b0-9792-4788-868a-67dcc3585cad",
   "metadata": {},
   "outputs": [],
   "source": [
    "def evaluate_thresholds(trial):\n",
    "    mask_thr = trial.suggest_float('mask_thr', 0.0, 0.95)\n",
    "    score_thr = trial.suggest_float('score_thr', 0.0, 0.95)\n",
    "    nms_thr = trial.suggest_float('nms_thr', 0.0, 1.0)\n",
    "    ious = []\n",
    "    for batch_idx, (images, targets) in enumerate(tqdm(train_dataloader)):\n",
    "        images= images2device(images, device)\n",
    "        outputs = model(images)\n",
    "        processed_outputs = postprocess_predictions(outputs, mask_thr, score_thr, nms_thr)\n",
    "        for i in range(len(images)):\n",
    "            predicted_masks = processed_outputs[i]['masks']\n",
    "            true_masks = targets[i]['masks']\n",
    "            x = time.time()\n",
    "            print(predicted_masks.shape, true_masks.shape)\n",
    "            iou = fast_iou(predicted_masks, true_masks.numpy())\n",
    "            print(time.time() - x)\n",
    "            ious.append(iou)\n",
    "        if batch_idx >= 4:\n",
    "            break\n",
    "    return np.mean(ious)"
   ]
  },
  {
   "cell_type": "code",
   "execution_count": null,
   "id": "fcf4be78-186d-4bea-99d8-bc42f017dc57",
   "metadata": {},
   "outputs": [],
   "source": [
    "os.makedirs('thresholds', exist_ok=True)"
   ]
  },
  {
   "cell_type": "code",
   "execution_count": 16,
   "id": "2d0efda0-ae24-4c73-b17e-6b55b36b1368",
   "metadata": {},
   "outputs": [],
   "source": [
    "import optuna\n",
    "study = optuna.create_study()\n",
    "for i in range(5):\n",
    "    study.optimize(evaluate_thresholds, n_trials=1)\n",
    "    with open(\"thresholds/first_baseline_with_metric.pickle\", 'wb') as file:\n",
    "        pickle.dump(study, file)\n",
    "    study.trials_dataframe().to_csv(\"thresholds/first_baseline_with_metric.csv\")"
   ]
  },
  {
   "cell_type": "code",
   "execution_count": 15,
   "id": "006fcee8-bfbb-4fc7-b58e-6b14ed64ae6f",
   "metadata": {},
   "outputs": [
    {
     "data": {
      "text/html": [
       "<div>\n",
       "<style scoped>\n",
       "    .dataframe tbody tr th:only-of-type {\n",
       "        vertical-align: middle;\n",
       "    }\n",
       "\n",
       "    .dataframe tbody tr th {\n",
       "        vertical-align: top;\n",
       "    }\n",
       "\n",
       "    .dataframe thead th {\n",
       "        text-align: right;\n",
       "    }\n",
       "</style>\n",
       "<table border=\"1\" class=\"dataframe\">\n",
       "  <thead>\n",
       "    <tr style=\"text-align: right;\">\n",
       "      <th></th>\n",
       "      <th>number</th>\n",
       "      <th>value</th>\n",
       "      <th>datetime_start</th>\n",
       "      <th>datetime_complete</th>\n",
       "      <th>duration</th>\n",
       "      <th>params_mask_thr</th>\n",
       "      <th>params_nms_thr</th>\n",
       "      <th>params_score_thr</th>\n",
       "      <th>state</th>\n",
       "    </tr>\n",
       "  </thead>\n",
       "  <tbody>\n",
       "    <tr>\n",
       "      <th>0</th>\n",
       "      <td>0</td>\n",
       "      <td>None</td>\n",
       "      <td>2021-12-14 19:25:59.884968</td>\n",
       "      <td>None</td>\n",
       "      <td>None</td>\n",
       "      <td>0.922141</td>\n",
       "      <td>0.267078</td>\n",
       "      <td>0.695879</td>\n",
       "      <td>RUNNING</td>\n",
       "    </tr>\n",
       "  </tbody>\n",
       "</table>\n",
       "</div>"
      ],
      "text/plain": [
       "   number value             datetime_start datetime_complete duration  \\\n",
       "0       0  None 2021-12-14 19:25:59.884968              None     None   \n",
       "\n",
       "   params_mask_thr  params_nms_thr  params_score_thr    state  \n",
       "0         0.922141        0.267078          0.695879  RUNNING  "
      ]
     },
     "execution_count": 15,
     "metadata": {},
     "output_type": "execute_result"
    }
   ],
   "source": []
  }
 ],
 "metadata": {
  "kernelspec": {
   "display_name": "Python 3 (ipykernel)",
   "language": "python",
   "name": "python3"
  },
  "language_info": {
   "codemirror_mode": {
    "name": "ipython",
    "version": 3
   },
   "file_extension": ".py",
   "mimetype": "text/x-python",
   "name": "python",
   "nbconvert_exporter": "python",
   "pygments_lexer": "ipython3",
   "version": "3.9.7"
  }
 },
 "nbformat": 4,
 "nbformat_minor": 5
}
