{
 "cells": [
  {
   "cell_type": "code",
   "execution_count": 1,
   "metadata": {
    "tags": []
   },
   "outputs": [
    {
     "data": {
      "text/plain": [
       "True"
      ]
     },
     "execution_count": 1,
     "metadata": {},
     "output_type": "execute_result"
    }
   ],
   "source": [
    "import os\n",
    "from functools import reduce\n",
    "import logging\n",
    "from pathlib import Path\n",
    "\n",
    "import cv2\n",
    "import matplotlib.pyplot as plt\n",
    "import pandas as pd\n",
    "from sklearn.model_selection import train_test_split\n",
    "from torch.utils.data import Dataset, DataLoader\n",
    "from easydict import EasyDict\n",
    "import torch\n",
    "from torchvision import models\n",
    "import numpy as np\n",
    "from skimage import io\n",
    "from pytorch_toolbelt.utils.rle import rle_decode\n",
    "import albumentations as A\n",
    "from albumentations.pytorch import ToTensorV2\n",
    "from tqdm import tqdm\n",
    "from datetime import datetime\n",
    "from dotenv import load_dotenv\n",
    "\n",
    "from src.utils import annotation2mask, get_box\n",
    "from src.postprocessing import remove_overlapping_pixels\n",
    "from src.dataset import CellDataset\n",
    "from src.visualization import plot_two_masks\n",
    "\n",
    "np.random.seed(0)\n",
    "\n",
    "load_dotenv()"
   ]
  },
  {
   "cell_type": "code",
   "execution_count": 2,
   "metadata": {
    "collapsed": false,
    "jupyter": {
     "outputs_hidden": false
    },
    "pycharm": {
     "name": "#%%\n"
    }
   },
   "outputs": [
    {
     "data": {
      "text/plain": [
       "PosixPath('/workspaces/sartorius_instance_segmentation')"
      ]
     },
     "execution_count": 2,
     "metadata": {},
     "output_type": "execute_result"
    }
   ],
   "source": [
    "current_dir = Path(\".\") # In my case, it is sartorius_instance_segmentation\n",
    "current_dir.absolute()"
   ]
  },
  {
   "cell_type": "code",
   "execution_count": 3,
   "metadata": {},
   "outputs": [],
   "source": [
    "logging.basicConfig(filename='train.log', level=logging.INFO, format='%(asctime)s %(message)s')"
   ]
  },
  {
   "cell_type": "markdown",
   "metadata": {
    "pycharm": {
     "name": "#%% md\n"
    }
   },
   "source": [
    "## Links to tutorials\n",
    "- Torchvision maskrcnn inputting: [pytorch.org](https://pytorch.org/tutorials/intermediate/torchvision_tutorial.html)\n",
    "- Kaggle baseline notebook: [kaggle.com](https://www.kaggle.com/julian3833/sartorius-starter-torch-mask-r-cnn-lb-0-273)\n"
   ]
  },
  {
   "cell_type": "code",
   "execution_count": 4,
   "metadata": {
    "collapsed": false,
    "jupyter": {
     "outputs_hidden": false
    },
    "pycharm": {
     "name": "#%%\n"
    }
   },
   "outputs": [],
   "source": [
    "# Global config of dataset, not tunable parameters\n",
    "config = EasyDict(\n",
    "    dataset_path=Path(os.environ[\"dataset_path\"]),\n",
    "    device=\"cuda:0\",\n",
    "    val_size=0.2,\n",
    "    batch_size=6,\n",
    "    num_workers=30,\n",
    "    max_epochs=40,\n",
    ")\n"
   ]
  },
  {
   "cell_type": "code",
   "execution_count": 5,
   "metadata": {
    "collapsed": false,
    "jupyter": {
     "outputs_hidden": false
    },
    "pycharm": {
     "name": "#%%\n"
    }
   },
   "outputs": [],
   "source": [
    "# pascal_voc - inputting bbox coord in format (xmin, ymin, xmax, ymax)\n",
    "valid_transform = A.Compose([\n",
    "    A.Normalize(mean=(0.485,), std=(0.229,)),\n",
    "    # A.ShiftScaleRotate(shift_limit=0.8, border_mode=cv2.BORDER_CONSTANT),\n",
    "    ToTensorV2(),\n",
    "], bbox_params=A.BboxParams(format='pascal_voc', label_fields=['category_ids']))\n",
    "\n",
    "test_transform = A.Compose([\n",
    "    A.Normalize(mean=(0.485,), std=(0.229,)),\n",
    "    ToTensorV2(),\n",
    "])"
   ]
  },
  {
   "cell_type": "code",
   "execution_count": 6,
   "metadata": {},
   "outputs": [
    {
     "name": "stderr",
     "output_type": "stream",
     "text": [
      "/workspaces/sartorius_instance_segmentation/src/dataset.py:59: UserWarning: Creating a tensor from a list of numpy.ndarrays is extremely slow. Please consider converting the list to a single numpy.ndarray with numpy.array() before converting to a tensor. (Triggered internally at  /opt/conda/conda-bld/pytorch_1634272068185/work/torch/csrc/utils/tensor_new.cpp:201.)\n",
      "  'masks': torch.as_tensor(masks),\n"
     ]
    }
   ],
   "source": [
    "dataset = CellDataset(cfg=config, mode='train', transform=valid_transform)\n",
    "image, data = dataset[1]"
   ]
  },
  {
   "cell_type": "code",
   "execution_count": 7,
   "metadata": {},
   "outputs": [],
   "source": [
    "# Do not change collate function - it was takes from torchvision tutorials\n",
    "train_dataloader = DataLoader(\n",
    "    dataset=CellDataset(cfg=config, mode='train', transform=valid_transform),\n",
    "    num_workers=config.num_workers,\n",
    "    batch_size=config.batch_size,\n",
    "    collate_fn=lambda x: tuple(zip(*x))\n",
    ")\n",
    "\n",
    "val_dataloader = DataLoader(\n",
    "    dataset=CellDataset(cfg=config, mode='val', transform=valid_transform),\n",
    "    num_workers=config.num_workers,\n",
    "    batch_size=config.batch_size,\n",
    "    collate_fn=lambda x: tuple(zip(*x))\n",
    ")"
   ]
  },
  {
   "cell_type": "code",
   "execution_count": 8,
   "metadata": {},
   "outputs": [],
   "source": [
    "device = config.device"
   ]
  },
  {
   "cell_type": "code",
   "execution_count": 9,
   "metadata": {
    "collapsed": false,
    "jupyter": {
     "outputs_hidden": false
    },
    "pycharm": {
     "name": "#%%\n"
    }
   },
   "outputs": [],
   "source": [
    "from torchvision.ops import nms\n",
    "def visualize_masks_from_loader(model, dataloader, name):\n",
    "    os.makedirs(\"imagelogs\", exist_ok=True)\n",
    "    model.eval()\n",
    "    for batch_idx, (images, targets) in tqdm(enumerate(dataloader)):\n",
    "        images = list(image.to(device) for image in images)\n",
    "        output = model(images)\n",
    "        output_mask = output[0]['masks'].squeeze()\n",
    "        plt.figure(figsize=(20, 9))\n",
    "        for i in range(3):\n",
    "            plt.subplot(1, 3, i+1)\n",
    "            plt.imshow(output_mask[i].cpu().detach().numpy())\n",
    "        plt.savefig('imagelogs/' + name + '.jpg', dpi=200)\n",
    "        return\n",
    "\n",
    "def predict_masks(image: torch.Tensor, model) -> np.ndarray:\n",
    "    score_threshold = 0.0  # All predictions would be counted, even with low score\n",
    "    nms_threshold = 0.1  # Overlapping instances will be dropped, lower - lower overlap is permitted\n",
    "    mask_threshold = 0.5  # Cut masks by the threshold\n",
    "    \"\"\"Predicts masks for the given single image\"\"\"\n",
    "    device = next(model.parameters()).device\n",
    "    image = image.to(device)\n",
    "    with torch.no_grad():\n",
    "        output = model.forward([image])[0]\n",
    "\n",
    "    scores = output['scores'].detach().cpu()\n",
    "    masks = output['masks'].squeeze().detach().cpu()\n",
    "    boxes = output['boxes'].detach().cpu()\n",
    "\n",
    "    masks = (masks >= mask_threshold).int()\n",
    "\n",
    "    # Now some masks can be empty (all zeros), we need to exclude them\n",
    "    # TODO(shamil): this indexing is ugly\n",
    "    indices = torch.as_tensor([torch.sum(mask) > 0 for mask in masks])\n",
    "    masks, boxes, scores = masks[indices], boxes[indices], scores[indices]\n",
    "\n",
    "    indices = scores >= score_threshold\n",
    "    masks, boxes, scores = masks[indices], boxes[indices], scores[indices]\n",
    "\n",
    "    indices = nms(boxes, scores, nms_threshold)\n",
    "    masks, boxes, scores = masks[indices], boxes[indices], scores[indices]\n",
    "    \n",
    "    answer_masks = remove_overlapping_pixels(masks.numpy())\n",
    "    assert np.max(np.sum(answer_masks, axis=0)) <= 1, \"Masks overlap\"\n",
    "    return answer_masks\n",
    "    \n",
    "def train(model, optimizer):\n",
    "    for epoch in range(config.max_epochs):\n",
    "        # train\n",
    "        losses = []\n",
    "        mask_losses = []\n",
    "        model.train()\n",
    "        for batch_idx, (images, targets) in tqdm(enumerate(train_dataloader), total=len(train_dataloader)):\n",
    "            # output has keys 'loss classifier', 'loss_box_reg', 'loss_mask', 'loss_objectness', 'loss_rpn_box_reg'\n",
    "            # second one is Faster R-CNN bounding box prediction loss\n",
    "            # last one is Region Proposal Network loss, RPN proposes candidate object BBoxes for Faster R-CNN\n",
    "            # 4th - I don't know what is it\n",
    "            optimizer.zero_grad()\n",
    "            images = list(image.to(device) for image in images)\n",
    "            targets = [{key: value.to(device) for key, value in target.items()} for target in targets]\n",
    "\n",
    "            output = model(images, targets)\n",
    "            loss = sum(single_loss for single_loss in output.values())\n",
    "\n",
    "            loss.backward()\n",
    "            optimizer.step()\n",
    "            \n",
    "            losses.append(loss.item())\n",
    "            mask_losses.append(output['loss_mask'].item())\n",
    "        logging.info(f\"Epoch {epoch}: Mean train epoch loss is {np.mean(losses)}, mask loss is {np.mean(mask_losses)}\")\n",
    "    \n",
    "        # val\n",
    "        model.train()\n",
    "        losses = []\n",
    "        mask_losses = []\n",
    "        with torch.no_grad():\n",
    "            for batch_idx, (images, targets) in tqdm(enumerate(val_dataloader), total=len(val_dataloader)):\n",
    "                images = list(image.to(device) for image in images)\n",
    "                targets = [{key: value.to(device) for key, value in target.items()} for target in targets]\n",
    "\n",
    "                output = model(images, targets)\n",
    "                loss = sum(single_loss for single_loss in output.values())\n",
    "\n",
    "                losses.append(loss.item())\n",
    "                mask_losses.append(output['loss_mask'].item())\n",
    "        logging.info(f\"Epoch {epoch}: Mean validation  loss is {np.mean(losses)}, mask loss is {np.mean(mask_losses)}\")\n",
    "        \n",
    "        # val visualization\n",
    "        model.eval()\n",
    "        with torch.no_grad():\n",
    "            images, target = next(iter(val_dataloader))\n",
    "            image = images[0]\n",
    "            masks = predict_masks(image, model)\n",
    "            plot_two_masks(image, masks, target[0]['masks'], filename=f'imagelogs/val{epoch}.jpg')\n",
    "        model.eval()\n",
    "    weights_dir = current_dir / \"weights\"\n",
    "    weights_dir.mkdir(exist_ok=True)\n",
    "    torch.save(model.state_dict(), weights_dir / f\"maskrcnn-{datetime.now().__str__()}.ckpt\")\n",
    "    print(f\"saved the weights in weights/maskrcnn-{datetime.now().__str__()} folder!\")"
   ]
  },
  {
   "cell_type": "code",
   "execution_count": 10,
   "metadata": {
    "collapsed": false,
    "jupyter": {
     "outputs_hidden": false
    },
    "pycharm": {
     "name": "#%%\n"
    }
   },
   "outputs": [
    {
     "name": "stdout",
     "output_type": "stream",
     "text": [
      "\n"
     ]
    }
   ],
   "source": [
    "# 2 classes: 0 - background, 1 - cell\n",
    "model = models.detection.maskrcnn_resnet50_fpn(num_classes=2, progress=False)\n",
    "model.to(device)\n",
    "print()"
   ]
  },
  {
   "cell_type": "code",
   "execution_count": null,
   "metadata": {
    "collapsed": false,
    "jupyter": {
     "outputs_hidden": false
    },
    "pycharm": {
     "name": "#%%\n"
    }
   },
   "outputs": [
    {
     "name": "stderr",
     "output_type": "stream",
     "text": [
      "  0% 0/81 [00:00<?, ?it/s]/conda/lib/python3.9/site-packages/torch/functional.py:445: UserWarning: torch.meshgrid: in an upcoming release, it will be required to pass the indexing argument. (Triggered internally at  /opt/conda/conda-bld/pytorch_1634272068185/work/aten/src/ATen/native/TensorShape.cpp:2157.)\n",
      "  return _VF.meshgrid(tensors, **kwargs)  # type: ignore[attr-defined]\n",
      "100% 81/81 [03:13<00:00,  2.39s/it] \n",
      "100% 21/21 [01:07<00:00,  3.23s/it]\n",
      "  1% 1/81 [00:38<51:24, 38.56s/it]"
     ]
    }
   ],
   "source": [
    "optimizer = torch.optim.Adam(model.parameters())\n",
    "train(model=model, optimizer=optimizer)"
   ]
  }
 ],
 "metadata": {
  "kernelspec": {
   "display_name": "Python 3 (ipykernel)",
   "language": "python",
   "name": "python3"
  },
  "language_info": {
   "codemirror_mode": {
    "name": "ipython",
    "version": 3
   },
   "file_extension": ".py",
   "mimetype": "text/x-python",
   "name": "python",
   "nbconvert_exporter": "python",
   "pygments_lexer": "ipython3",
   "version": "3.9.7"
  }
 },
 "nbformat": 4,
 "nbformat_minor": 4
}
