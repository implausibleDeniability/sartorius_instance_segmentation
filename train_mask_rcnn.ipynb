{
 "cells": [
  {
   "cell_type": "code",
   "execution_count": 11,
   "metadata": {
    "tags": []
   },
   "outputs": [
    {
     "data": {
      "text/plain": "True"
     },
     "execution_count": 11,
     "metadata": {},
     "output_type": "execute_result"
    }
   ],
   "source": [
    "import os\n",
    "from functools import reduce\n",
    "import logging\n",
    "from pathlib import Path\n",
    "\n",
    "\n",
    "from torch.utils.data import Dataset, DataLoader\n",
    "from easydict import EasyDict\n",
    "import torch\n",
    "from torchvision import models\n",
    "import numpy as np\n",
    "\n",
    "import albumentations as A\n",
    "from albumentations.pytorch import ToTensorV2\n",
    "from tqdm import tqdm\n",
    "from datetime import datetime\n",
    "from dotenv import load_dotenv\n",
    "\n",
    "from src.dataset import CellDataset\n",
    "from src.postprocessing import postprocess_predictions\n",
    "from src.iou_metric import iou_map\n",
    "logging.basicConfig(filename='train.log', level=logging.INFO, format='%(asctime)s %(message)s')\n",
    "np.random.seed(0)\n",
    "\n",
    "load_dotenv()"
   ]
  },
  {
   "cell_type": "code",
   "execution_count": 12,
   "metadata": {
    "collapsed": false,
    "jupyter": {
     "outputs_hidden": false
    },
    "pycharm": {
     "name": "#%%\n"
    }
   },
   "outputs": [
    {
     "data": {
      "text/plain": "PosixPath('/home/shamil/PycharmProjects/sartorius_instance_segmentation')"
     },
     "execution_count": 12,
     "metadata": {},
     "output_type": "execute_result"
    }
   ],
   "source": [
    "current_dir = Path(\".\") # In my case, it is sartorius_instance_segmentation\n",
    "current_dir.absolute()"
   ]
  },
  {
   "cell_type": "code",
   "execution_count": 12,
   "metadata": {},
   "outputs": [],
   "source": []
  },
  {
   "cell_type": "markdown",
   "metadata": {
    "pycharm": {
     "name": "#%% md\n"
    }
   },
   "source": [
    "## Links to tutorials\n",
    "- Torchvision maskrcnn inputting: [pytorch.org](https://pytorch.org/tutorials/intermediate/torchvision_tutorial.html)\n",
    "- Kaggle baseline notebook: [kaggle.com](https://www.kaggle.com/julian3833/sartorius-starter-torch-mask-r-cnn-lb-0-273)\n"
   ]
  },
  {
   "cell_type": "code",
   "execution_count": 13,
   "metadata": {
    "collapsed": false,
    "jupyter": {
     "outputs_hidden": false
    },
    "pycharm": {
     "name": "#%%\n"
    }
   },
   "outputs": [],
   "source": [
    "# Global config of dataset, not tunable parameters\n",
    "config = EasyDict(\n",
    "    dataset_path=Path(os.environ[\"dataset_path\"]),\n",
    "    device=\"cuda:0\",\n",
    "    val_size=0.2,\n",
    "    batch_size=6,\n",
    "    num_workers=30,\n",
    "    max_epochs=40,\n",
    "    mask_threshold=0.5,\n",
    "    score_threshold=0.2,\n",
    "    nms_threshold=None,\n",
    "\n",
    ")\n",
    "\n",
    "## This is for Shamil's local running\n",
    "# config = EasyDict(\n",
    "#     dataset_path=Path(os.environ[\"dataset_path\"]),\n",
    "#     device=\"cpu\",\n",
    "#     val_size=0.2,\n",
    "#     batch_size=1,\n",
    "#     num_workers=2,\n",
    "#     max_epochs=1,\n",
    "# )\n"
   ]
  },
  {
   "cell_type": "code",
   "execution_count": 14,
   "metadata": {
    "collapsed": false,
    "jupyter": {
     "outputs_hidden": false
    },
    "pycharm": {
     "name": "#%%\n"
    }
   },
   "outputs": [],
   "source": [
    "# pascal_voc - inputting bbox coord in format (xmin, ymin, xmax, ymax)\n",
    "valid_transform = A.Compose([\n",
    "    A.Normalize(mean=(0.485,), std=(0.229,)),\n",
    "    # A.ShiftScaleRotate(shift_limit=0.8, border_mode=cv2.BORDER_CONSTANT),\n",
    "    ToTensorV2(),\n",
    "], bbox_params=A.BboxParams(format='pascal_voc', label_fields=['category_ids']))\n",
    "\n",
    "test_transform = A.Compose([\n",
    "    A.Normalize(mean=(0.485,), std=(0.229,)),\n",
    "    ToTensorV2(),\n",
    "])"
   ]
  },
  {
   "cell_type": "code",
   "execution_count": 15,
   "metadata": {},
   "outputs": [],
   "source": [
    "dataset = CellDataset(cfg=config, mode='train', transform=valid_transform)\n",
    "image, data = dataset[1]"
   ]
  },
  {
   "cell_type": "code",
   "execution_count": 16,
   "metadata": {},
   "outputs": [],
   "source": [
    "# Do not change collate function - it was takes from torchvision tutorials\n",
    "train_dataloader = DataLoader(\n",
    "    dataset=CellDataset(cfg=config, mode='train', transform=valid_transform),\n",
    "    num_workers=config.num_workers,\n",
    "    batch_size=config.batch_size,\n",
    "    collate_fn=lambda x: tuple(zip(*x))\n",
    ")\n",
    "\n",
    "val_dataloader = DataLoader(\n",
    "    dataset=CellDataset(cfg=config, mode='val', transform=valid_transform),\n",
    "    num_workers=config.num_workers,\n",
    "    batch_size=config.batch_size,\n",
    "    collate_fn=lambda x: tuple(zip(*x))\n",
    ")"
   ]
  },
  {
   "cell_type": "code",
   "execution_count": 17,
   "metadata": {},
   "outputs": [],
   "source": [
    "device = config.device"
   ]
  },
  {
   "cell_type": "code",
   "execution_count": 18,
   "metadata": {
    "collapsed": false,
    "jupyter": {
     "outputs_hidden": false
    },
    "pycharm": {
     "name": "#%%\n"
    }
   },
   "outputs": [],
   "source": [
    "def train(model, optimizer):\n",
    "    for epoch in range(config.max_epochs):\n",
    "        # train\n",
    "        losses = []\n",
    "        mask_losses = []\n",
    "        model.train()\n",
    "        for batch_idx, (images, targets) in tqdm(enumerate(train_dataloader), total=len(train_dataloader)):\n",
    "            break\n",
    "            # output has keys 'loss classifier', 'loss_box_reg', 'loss_mask', 'loss_objectness', 'loss_rpn_box_reg'\n",
    "            # second one is Faster R-CNN bounding box prediction loss\n",
    "            # last one is Region Proposal Network loss, RPN proposes candidate object BBoxes for Faster R-CNN\n",
    "            # 4th - I don't know what is it\n",
    "            optimizer.zero_grad()\n",
    "            images = list(image.to(device) for image in images)\n",
    "            targets = [{key: value.to(device) for key, value in target.items()} for target in targets]\n",
    "\n",
    "            output = model(images, targets)\n",
    "            loss = sum(single_loss for single_loss in output.values())\n",
    "\n",
    "            loss.backward()\n",
    "            optimizer.step()\n",
    "            \n",
    "            losses.append(loss.item())\n",
    "            mask_losses.append(output['loss_mask'].item())\n",
    "        logging.info(f\"Epoch {epoch}: Mean train epoch loss is {np.mean(losses)}, mask loss is {np.mean(mask_losses)}\")\n",
    "    \n",
    "        # Calculating loss metrics on validation\n",
    "        losses = []\n",
    "        mask_losses = []\n",
    "        model.train()\n",
    "        for batch_idx, (images, targets) in tqdm(enumerate(val_dataloader), total=len(val_dataloader)):\n",
    "            break\n",
    "            images = list(image.to(device) for image in images)\n",
    "            targets = [{key: value.to(device) for key, value in target.items()} for target in targets]\n",
    "\n",
    "            # Calculating metrics on validation\n",
    "\n",
    "            with torch.no_grad():\n",
    "                output = model(images, targets)\n",
    "\n",
    "            loss = sum(single_loss for single_loss in output.values())\n",
    "\n",
    "            losses.append(loss.item())\n",
    "            mask_losses.append(output['loss_mask'].item())\n",
    "\n",
    "        logging.info(f\"Epoch {epoch}: Mean validation  loss is {np.mean(losses)}, mask loss is {np.mean(mask_losses)}\")\n",
    "        \n",
    "        # val visualization\n",
    "        model.eval()\n",
    "        iou_scores = []\n",
    "        for batch_idx, (images, targets) in tqdm(enumerate(val_dataloader), total=len(val_dataloader), desc=\"Calculating map of validation\"):\n",
    "            images = list(image.to(device) for image in images)\n",
    "            targets = [{key: value.to(device) for key, value in target.items()} for target in targets]\n",
    "\n",
    "            with torch.no_grad():\n",
    "                outputs = model(images)\n",
    "\n",
    "            outputs = postprocess_predictions(\n",
    "                outputs,\n",
    "                mask_threshold=config.mask_threshold,\n",
    "                score_threshold=config.score_threshold,\n",
    "                nms_threshold=config.nms_threshold\n",
    "            )\n",
    "\n",
    "            # Iterating through each image in batch\n",
    "            for output, ground_truth in zip(outputs, targets):\n",
    "                pred_masks = output['masks']\n",
    "                true_masks = ground_truth['masks'].cpu().numpy()\n",
    "                score = iou_map(true_masks=true_masks, pred_masks=pred_masks)\n",
    "                print(f\"map score={score}\")\n",
    "\n",
    "                iou_scores.append(score)\n",
    "\n",
    "        logging.info(f\"Epoch: {epoch}: map score: {np.mean(iou_scores)}\")\n",
    "\n",
    "\n",
    "    weights_dir = current_dir / \"weights\"\n",
    "    weights_dir.mkdir(exist_ok=True)\n",
    "    torch.save(model.state_dict(), weights_dir / f\"maskrcnn-{datetime.now().__str__()}.ckpt\")\n",
    "    print(f\"saved the weights in weights/maskrcnn-{datetime.now().__str__()} folder!\")"
   ]
  },
  {
   "cell_type": "code",
   "execution_count": 19,
   "metadata": {
    "collapsed": false,
    "jupyter": {
     "outputs_hidden": false
    },
    "pycharm": {
     "name": "#%%\n"
    }
   },
   "outputs": [
    {
     "name": "stdout",
     "output_type": "stream",
     "text": [
      "\n"
     ]
    }
   ],
   "source": [
    "# 2 classes: 0 - background, 1 - cell\n",
    "model = models.detection.maskrcnn_resnet50_fpn(num_classes=2, progress=False)\n",
    "model.to(device)\n",
    "print()"
   ]
  },
  {
   "cell_type": "code",
   "execution_count": 20,
   "outputs": [
    {
     "name": "stderr",
     "output_type": "stream",
     "text": [
      "  0%|          | 0/484 [00:00<?, ?it/s]\n",
      "  0%|          | 0/122 [00:07<?, ?it/s]\n",
      "Calculating map of validation:   0%|          | 0/122 [04:33<?, ?it/s]\n"
     ]
    },
    {
     "ename": "KeyboardInterrupt",
     "evalue": "",
     "output_type": "error",
     "traceback": [
      "\u001B[0;31m---------------------------------------------------------------------------\u001B[0m",
      "\u001B[0;31mKeyboardInterrupt\u001B[0m                         Traceback (most recent call last)",
      "\u001B[0;32m/tmp/ipykernel_4229/795648479.py\u001B[0m in \u001B[0;36m<module>\u001B[0;34m\u001B[0m\n\u001B[1;32m      1\u001B[0m \u001B[0moptimizer\u001B[0m \u001B[0;34m=\u001B[0m \u001B[0mtorch\u001B[0m\u001B[0;34m.\u001B[0m\u001B[0moptim\u001B[0m\u001B[0;34m.\u001B[0m\u001B[0mAdam\u001B[0m\u001B[0;34m(\u001B[0m\u001B[0mmodel\u001B[0m\u001B[0;34m.\u001B[0m\u001B[0mparameters\u001B[0m\u001B[0;34m(\u001B[0m\u001B[0;34m)\u001B[0m\u001B[0;34m)\u001B[0m\u001B[0;34m\u001B[0m\u001B[0;34m\u001B[0m\u001B[0m\n\u001B[0;32m----> 2\u001B[0;31m \u001B[0mtrain\u001B[0m\u001B[0;34m(\u001B[0m\u001B[0mmodel\u001B[0m\u001B[0;34m=\u001B[0m\u001B[0mmodel\u001B[0m\u001B[0;34m,\u001B[0m \u001B[0moptimizer\u001B[0m\u001B[0;34m=\u001B[0m\u001B[0moptimizer\u001B[0m\u001B[0;34m)\u001B[0m\u001B[0;34m\u001B[0m\u001B[0;34m\u001B[0m\u001B[0m\n\u001B[0m",
      "\u001B[0;32m/tmp/ipykernel_4229/4231205681.py\u001B[0m in \u001B[0;36mtrain\u001B[0;34m(model, optimizer)\u001B[0m\n\u001B[1;32m     67\u001B[0m                 \u001B[0mpred_masks\u001B[0m \u001B[0;34m=\u001B[0m \u001B[0moutput\u001B[0m\u001B[0;34m[\u001B[0m\u001B[0;34m'masks'\u001B[0m\u001B[0;34m]\u001B[0m\u001B[0;34m\u001B[0m\u001B[0;34m\u001B[0m\u001B[0m\n\u001B[1;32m     68\u001B[0m                 \u001B[0mtrue_masks\u001B[0m \u001B[0;34m=\u001B[0m \u001B[0mground_truth\u001B[0m\u001B[0;34m[\u001B[0m\u001B[0;34m'masks'\u001B[0m\u001B[0;34m]\u001B[0m\u001B[0;34m.\u001B[0m\u001B[0mcpu\u001B[0m\u001B[0;34m(\u001B[0m\u001B[0;34m)\u001B[0m\u001B[0;34m.\u001B[0m\u001B[0mnumpy\u001B[0m\u001B[0;34m(\u001B[0m\u001B[0;34m)\u001B[0m\u001B[0;34m\u001B[0m\u001B[0;34m\u001B[0m\u001B[0m\n\u001B[0;32m---> 69\u001B[0;31m                 \u001B[0mscore\u001B[0m \u001B[0;34m=\u001B[0m \u001B[0miou_map\u001B[0m\u001B[0;34m(\u001B[0m\u001B[0mtrue_masks\u001B[0m\u001B[0;34m=\u001B[0m\u001B[0mtrue_masks\u001B[0m\u001B[0;34m,\u001B[0m \u001B[0mpred_masks\u001B[0m\u001B[0;34m=\u001B[0m\u001B[0mpred_masks\u001B[0m\u001B[0;34m)\u001B[0m\u001B[0;34m\u001B[0m\u001B[0;34m\u001B[0m\u001B[0m\n\u001B[0m\u001B[1;32m     70\u001B[0m                 \u001B[0mprint\u001B[0m\u001B[0;34m(\u001B[0m\u001B[0;34mf\"map score={score}\"\u001B[0m\u001B[0;34m)\u001B[0m\u001B[0;34m\u001B[0m\u001B[0;34m\u001B[0m\u001B[0m\n\u001B[1;32m     71\u001B[0m \u001B[0;34m\u001B[0m\u001B[0m\n",
      "\u001B[0;32m~/PycharmProjects/sartorius_instance_segmentation/src/iou_metric.py\u001B[0m in \u001B[0;36miou_map\u001B[0;34m(true_masks, pred_masks)\u001B[0m\n\u001B[1;32m     25\u001B[0m     \u001B[0maverage_precision\u001B[0m \u001B[0;34m=\u001B[0m \u001B[0;34m[\u001B[0m\u001B[0;34m]\u001B[0m\u001B[0;34m\u001B[0m\u001B[0;34m\u001B[0m\u001B[0m\n\u001B[1;32m     26\u001B[0m     \u001B[0;32mfor\u001B[0m \u001B[0mthreshold\u001B[0m \u001B[0;32min\u001B[0m \u001B[0mnp\u001B[0m\u001B[0;34m.\u001B[0m\u001B[0marange\u001B[0m\u001B[0;34m(\u001B[0m\u001B[0mstart\u001B[0m\u001B[0;34m=\u001B[0m\u001B[0;36m0.5\u001B[0m\u001B[0;34m,\u001B[0m \u001B[0mstop\u001B[0m\u001B[0;34m=\u001B[0m\u001B[0;36m1\u001B[0m\u001B[0;34m,\u001B[0m \u001B[0mstep\u001B[0m\u001B[0;34m=\u001B[0m\u001B[0;36m0.05\u001B[0m\u001B[0;34m)\u001B[0m\u001B[0;34m:\u001B[0m\u001B[0;34m\u001B[0m\u001B[0;34m\u001B[0m\u001B[0m\n\u001B[0;32m---> 27\u001B[0;31m         \u001B[0maverage_precision\u001B[0m\u001B[0;34m.\u001B[0m\u001B[0mappend\u001B[0m\u001B[0;34m(\u001B[0m\u001B[0mprecision\u001B[0m\u001B[0;34m(\u001B[0m\u001B[0mtrue_masks\u001B[0m\u001B[0;34m,\u001B[0m \u001B[0mpred_masks\u001B[0m\u001B[0;34m,\u001B[0m \u001B[0mthreshold\u001B[0m\u001B[0;34m)\u001B[0m\u001B[0;34m)\u001B[0m\u001B[0;34m\u001B[0m\u001B[0;34m\u001B[0m\u001B[0m\n\u001B[0m\u001B[1;32m     28\u001B[0m \u001B[0;34m\u001B[0m\u001B[0m\n\u001B[1;32m     29\u001B[0m     \u001B[0;32mreturn\u001B[0m \u001B[0mnp\u001B[0m\u001B[0;34m.\u001B[0m\u001B[0masarray\u001B[0m\u001B[0;34m(\u001B[0m\u001B[0maverage_precision\u001B[0m\u001B[0;34m)\u001B[0m\u001B[0;34m.\u001B[0m\u001B[0mmean\u001B[0m\u001B[0;34m(\u001B[0m\u001B[0;34m)\u001B[0m\u001B[0;34m\u001B[0m\u001B[0;34m\u001B[0m\u001B[0m\n",
      "\u001B[0;32m~/PycharmProjects/sartorius_instance_segmentation/src/iou_metric.py\u001B[0m in \u001B[0;36mprecision\u001B[0;34m(true_masks, pred_masks, iou_threshold)\u001B[0m\n\u001B[1;32m     15\u001B[0m     \u001B[0;32mfor\u001B[0m \u001B[0mmask1\u001B[0m \u001B[0;32min\u001B[0m \u001B[0mtrue_masks\u001B[0m\u001B[0;34m:\u001B[0m\u001B[0;34m\u001B[0m\u001B[0;34m\u001B[0m\u001B[0m\n\u001B[1;32m     16\u001B[0m         \u001B[0;32mfor\u001B[0m \u001B[0mmask2\u001B[0m \u001B[0;32min\u001B[0m \u001B[0mpred_masks\u001B[0m\u001B[0;34m:\u001B[0m\u001B[0;34m\u001B[0m\u001B[0;34m\u001B[0m\u001B[0m\n\u001B[0;32m---> 17\u001B[0;31m             \u001B[0;32mif\u001B[0m \u001B[0miou\u001B[0m\u001B[0;34m(\u001B[0m\u001B[0mmask1\u001B[0m\u001B[0;34m,\u001B[0m \u001B[0mmask2\u001B[0m\u001B[0;34m)\u001B[0m \u001B[0;34m>\u001B[0m \u001B[0miou_threshold\u001B[0m\u001B[0;34m:\u001B[0m\u001B[0;34m\u001B[0m\u001B[0;34m\u001B[0m\u001B[0m\n\u001B[0m\u001B[1;32m     18\u001B[0m                 \u001B[0mtrue_positive\u001B[0m \u001B[0;34m+=\u001B[0m \u001B[0;36m1\u001B[0m\u001B[0;34m\u001B[0m\u001B[0;34m\u001B[0m\u001B[0m\n\u001B[1;32m     19\u001B[0m \u001B[0;34m\u001B[0m\u001B[0m\n",
      "\u001B[0;32m~/PycharmProjects/sartorius_instance_segmentation/src/iou_metric.py\u001B[0m in \u001B[0;36miou\u001B[0;34m(true_mask, pred_mask)\u001B[0m\n\u001B[1;32m      6\u001B[0m \u001B[0;32mdef\u001B[0m \u001B[0miou\u001B[0m\u001B[0;34m(\u001B[0m\u001B[0mtrue_mask\u001B[0m\u001B[0;34m:\u001B[0m \u001B[0mnp\u001B[0m\u001B[0;34m.\u001B[0m\u001B[0marray\u001B[0m\u001B[0;34m,\u001B[0m \u001B[0mpred_mask\u001B[0m\u001B[0;34m:\u001B[0m \u001B[0mnp\u001B[0m\u001B[0;34m.\u001B[0m\u001B[0marray\u001B[0m\u001B[0;34m)\u001B[0m\u001B[0;34m:\u001B[0m\u001B[0;34m\u001B[0m\u001B[0;34m\u001B[0m\u001B[0m\n\u001B[1;32m      7\u001B[0m     \u001B[0mintersection\u001B[0m \u001B[0;34m=\u001B[0m \u001B[0mnp\u001B[0m\u001B[0;34m.\u001B[0m\u001B[0mlogical_and\u001B[0m\u001B[0;34m(\u001B[0m\u001B[0mtrue_mask\u001B[0m\u001B[0;34m,\u001B[0m \u001B[0mpred_mask\u001B[0m\u001B[0;34m)\u001B[0m\u001B[0;34m.\u001B[0m\u001B[0msum\u001B[0m\u001B[0;34m(\u001B[0m\u001B[0;34m)\u001B[0m\u001B[0;34m\u001B[0m\u001B[0;34m\u001B[0m\u001B[0m\n\u001B[0;32m----> 8\u001B[0;31m     \u001B[0munion\u001B[0m \u001B[0;34m=\u001B[0m \u001B[0mnp\u001B[0m\u001B[0;34m.\u001B[0m\u001B[0mlogical_or\u001B[0m\u001B[0;34m(\u001B[0m\u001B[0mtrue_mask\u001B[0m\u001B[0;34m,\u001B[0m \u001B[0mpred_mask\u001B[0m\u001B[0;34m)\u001B[0m\u001B[0;34m.\u001B[0m\u001B[0msum\u001B[0m\u001B[0;34m(\u001B[0m\u001B[0;34m)\u001B[0m \u001B[0;34m+\u001B[0m \u001B[0meps\u001B[0m\u001B[0;34m\u001B[0m\u001B[0;34m\u001B[0m\u001B[0m\n\u001B[0m\u001B[1;32m      9\u001B[0m \u001B[0;34m\u001B[0m\u001B[0m\n\u001B[1;32m     10\u001B[0m     \u001B[0;32mreturn\u001B[0m \u001B[0mintersection\u001B[0m\u001B[0;34m.\u001B[0m\u001B[0msum\u001B[0m\u001B[0;34m(\u001B[0m\u001B[0;34m)\u001B[0m \u001B[0;34m/\u001B[0m \u001B[0munion\u001B[0m\u001B[0;34m.\u001B[0m\u001B[0msum\u001B[0m\u001B[0;34m(\u001B[0m\u001B[0;34m)\u001B[0m\u001B[0;34m\u001B[0m\u001B[0;34m\u001B[0m\u001B[0m\n",
      "\u001B[0;32m~/PycharmProjects/data-analysis-sklearn/venv/lib/python3.9/site-packages/numpy/core/_methods.py\u001B[0m in \u001B[0;36m_sum\u001B[0;34m(a, axis, dtype, out, keepdims, initial, where)\u001B[0m\n\u001B[1;32m     45\u001B[0m def _sum(a, axis=None, dtype=None, out=None, keepdims=False,\n\u001B[1;32m     46\u001B[0m          initial=_NoValue, where=True):\n\u001B[0;32m---> 47\u001B[0;31m     \u001B[0;32mreturn\u001B[0m \u001B[0mumr_sum\u001B[0m\u001B[0;34m(\u001B[0m\u001B[0ma\u001B[0m\u001B[0;34m,\u001B[0m \u001B[0maxis\u001B[0m\u001B[0;34m,\u001B[0m \u001B[0mdtype\u001B[0m\u001B[0;34m,\u001B[0m \u001B[0mout\u001B[0m\u001B[0;34m,\u001B[0m \u001B[0mkeepdims\u001B[0m\u001B[0;34m,\u001B[0m \u001B[0minitial\u001B[0m\u001B[0;34m,\u001B[0m \u001B[0mwhere\u001B[0m\u001B[0;34m)\u001B[0m\u001B[0;34m\u001B[0m\u001B[0;34m\u001B[0m\u001B[0m\n\u001B[0m\u001B[1;32m     48\u001B[0m \u001B[0;34m\u001B[0m\u001B[0m\n\u001B[1;32m     49\u001B[0m def _prod(a, axis=None, dtype=None, out=None, keepdims=False,\n",
      "\u001B[0;31mKeyboardInterrupt\u001B[0m: "
     ]
    }
   ],
   "source": [
    "optimizer = torch.optim.Adam(model.parameters())\n",
    "train(model=model, optimizer=optimizer)"
   ],
   "metadata": {
    "collapsed": false,
    "pycharm": {
     "name": "#%%\n"
    }
   }
  }
 ],
 "metadata": {
  "kernelspec": {
   "display_name": "Python 3 (ipykernel)",
   "language": "python",
   "name": "python3"
  },
  "language_info": {
   "codemirror_mode": {
    "name": "ipython",
    "version": 3
   },
   "file_extension": ".py",
   "mimetype": "text/x-python",
   "name": "python",
   "nbconvert_exporter": "python",
   "pygments_lexer": "ipython3",
   "version": "3.9.7"
  }
 },
 "nbformat": 4,
 "nbformat_minor": 4
}