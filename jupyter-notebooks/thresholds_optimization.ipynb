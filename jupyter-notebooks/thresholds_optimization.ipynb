{
 "cells": [
  {
   "cell_type": "code",
   "execution_count": 1,
   "id": "6ddecadb-d6af-4314-be2e-4e08b058ebe4",
   "metadata": {},
   "outputs": [],
   "source": [
    "import optuna"
   ]
  },
  {
   "cell_type": "code",
   "execution_count": 2,
   "id": "6393b099-ba82-441e-bcda-6b2be980a536",
   "metadata": {},
   "outputs": [
    {
     "name": "stderr",
     "output_type": "stream",
     "text": [
      "\u001b[32m[I 2021-12-15 21:27:55,852]\u001b[0m A new study created in memory with name: no-name-7d8bf915-a54e-4b0a-930c-74de44785004\u001b[0m\n"
     ]
    }
   ],
   "source": [
    "study = optuna.create_study()"
   ]
  },
  {
   "cell_type": "code",
   "execution_count": 3,
   "id": "684d6a7f-3cc8-44f0-9e06-7dbe49ba2fe9",
   "metadata": {},
   "outputs": [
    {
     "data": {
      "text/plain": [
       "\u001b[0;31mSignature:\u001b[0m\n",
       "\u001b[0mstudy\u001b[0m\u001b[0;34m.\u001b[0m\u001b[0moptimize\u001b[0m\u001b[0;34m(\u001b[0m\u001b[0;34m\u001b[0m\n",
       "\u001b[0;34m\u001b[0m    \u001b[0mfunc\u001b[0m\u001b[0;34m:\u001b[0m \u001b[0mCallable\u001b[0m\u001b[0;34m[\u001b[0m\u001b[0;34m[\u001b[0m\u001b[0moptuna\u001b[0m\u001b[0;34m.\u001b[0m\u001b[0mtrial\u001b[0m\u001b[0;34m.\u001b[0m\u001b[0m_trial\u001b[0m\u001b[0;34m.\u001b[0m\u001b[0mTrial\u001b[0m\u001b[0;34m]\u001b[0m\u001b[0;34m,\u001b[0m \u001b[0mUnion\u001b[0m\u001b[0;34m[\u001b[0m\u001b[0mfloat\u001b[0m\u001b[0;34m,\u001b[0m \u001b[0mSequence\u001b[0m\u001b[0;34m[\u001b[0m\u001b[0mfloat\u001b[0m\u001b[0;34m]\u001b[0m\u001b[0;34m]\u001b[0m\u001b[0;34m]\u001b[0m\u001b[0;34m,\u001b[0m\u001b[0;34m\u001b[0m\n",
       "\u001b[0;34m\u001b[0m    \u001b[0mn_trials\u001b[0m\u001b[0;34m:\u001b[0m \u001b[0mOptional\u001b[0m\u001b[0;34m[\u001b[0m\u001b[0mint\u001b[0m\u001b[0;34m]\u001b[0m \u001b[0;34m=\u001b[0m \u001b[0;32mNone\u001b[0m\u001b[0;34m,\u001b[0m\u001b[0;34m\u001b[0m\n",
       "\u001b[0;34m\u001b[0m    \u001b[0mtimeout\u001b[0m\u001b[0;34m:\u001b[0m \u001b[0mOptional\u001b[0m\u001b[0;34m[\u001b[0m\u001b[0mfloat\u001b[0m\u001b[0;34m]\u001b[0m \u001b[0;34m=\u001b[0m \u001b[0;32mNone\u001b[0m\u001b[0;34m,\u001b[0m\u001b[0;34m\u001b[0m\n",
       "\u001b[0;34m\u001b[0m    \u001b[0mn_jobs\u001b[0m\u001b[0;34m:\u001b[0m \u001b[0mint\u001b[0m \u001b[0;34m=\u001b[0m \u001b[0;36m1\u001b[0m\u001b[0;34m,\u001b[0m\u001b[0;34m\u001b[0m\n",
       "\u001b[0;34m\u001b[0m    \u001b[0mcatch\u001b[0m\u001b[0;34m:\u001b[0m \u001b[0mTuple\u001b[0m\u001b[0;34m[\u001b[0m\u001b[0mType\u001b[0m\u001b[0;34m[\u001b[0m\u001b[0mException\u001b[0m\u001b[0;34m]\u001b[0m\u001b[0;34m,\u001b[0m \u001b[0;34m...\u001b[0m\u001b[0;34m]\u001b[0m \u001b[0;34m=\u001b[0m \u001b[0;34m(\u001b[0m\u001b[0;34m)\u001b[0m\u001b[0;34m,\u001b[0m\u001b[0;34m\u001b[0m\n",
       "\u001b[0;34m\u001b[0m    \u001b[0mcallbacks\u001b[0m\u001b[0;34m:\u001b[0m \u001b[0mOptional\u001b[0m\u001b[0;34m[\u001b[0m\u001b[0mList\u001b[0m\u001b[0;34m[\u001b[0m\u001b[0mCallable\u001b[0m\u001b[0;34m[\u001b[0m\u001b[0;34m[\u001b[0m\u001b[0mForwardRef\u001b[0m\u001b[0;34m(\u001b[0m\u001b[0;34m'Study'\u001b[0m\u001b[0;34m)\u001b[0m\u001b[0;34m,\u001b[0m \u001b[0moptuna\u001b[0m\u001b[0;34m.\u001b[0m\u001b[0mtrial\u001b[0m\u001b[0;34m.\u001b[0m\u001b[0m_frozen\u001b[0m\u001b[0;34m.\u001b[0m\u001b[0mFrozenTrial\u001b[0m\u001b[0;34m]\u001b[0m\u001b[0;34m,\u001b[0m \u001b[0mNoneType\u001b[0m\u001b[0;34m]\u001b[0m\u001b[0;34m]\u001b[0m\u001b[0;34m]\u001b[0m \u001b[0;34m=\u001b[0m \u001b[0;32mNone\u001b[0m\u001b[0;34m,\u001b[0m\u001b[0;34m\u001b[0m\n",
       "\u001b[0;34m\u001b[0m    \u001b[0mgc_after_trial\u001b[0m\u001b[0;34m:\u001b[0m \u001b[0mbool\u001b[0m \u001b[0;34m=\u001b[0m \u001b[0;32mFalse\u001b[0m\u001b[0;34m,\u001b[0m\u001b[0;34m\u001b[0m\n",
       "\u001b[0;34m\u001b[0m    \u001b[0mshow_progress_bar\u001b[0m\u001b[0;34m:\u001b[0m \u001b[0mbool\u001b[0m \u001b[0;34m=\u001b[0m \u001b[0;32mFalse\u001b[0m\u001b[0;34m,\u001b[0m\u001b[0;34m\u001b[0m\n",
       "\u001b[0;34m\u001b[0m\u001b[0;34m)\u001b[0m \u001b[0;34m->\u001b[0m \u001b[0;32mNone\u001b[0m\u001b[0;34m\u001b[0m\u001b[0;34m\u001b[0m\u001b[0m\n",
       "\u001b[0;31mDocstring:\u001b[0m\n",
       "Optimize an objective function.\n",
       "\n",
       "Optimization is done by choosing a suitable set of hyperparameter values from a given\n",
       "range. Uses a sampler which implements the task of value suggestion based on a specified\n",
       "distribution. The sampler is specified in :func:`~optuna.study.create_study` and the\n",
       "default choice for the sampler is TPE.\n",
       "See also :class:`~optuna.samplers.TPESampler` for more details on 'TPE'.\n",
       "\n",
       "Example:\n",
       "\n",
       "    .. testcode::\n",
       "\n",
       "        import optuna\n",
       "\n",
       "\n",
       "        def objective(trial):\n",
       "            x = trial.suggest_float(\"x\", -1, 1)\n",
       "            return x ** 2\n",
       "\n",
       "\n",
       "        study = optuna.create_study()\n",
       "        study.optimize(objective, n_trials=3)\n",
       "\n",
       "Args:\n",
       "    func:\n",
       "        A callable that implements objective function.\n",
       "    n_trials:\n",
       "        The number of trials. If this argument is set to :obj:`None`, there is no\n",
       "        limitation on the number of trials. If :obj:`timeout` is also set to :obj:`None`,\n",
       "        the study continues to create trials until it receives a termination signal such\n",
       "        as Ctrl+C or SIGTERM.\n",
       "    timeout:\n",
       "        Stop study after the given number of second(s). If this argument is set to\n",
       "        :obj:`None`, the study is executed without time limitation. If :obj:`n_trials` is\n",
       "        also set to :obj:`None`, the study continues to create trials until it receives a\n",
       "        termination signal such as Ctrl+C or SIGTERM.\n",
       "    n_jobs:\n",
       "        The number of parallel jobs. If this argument is set to :obj:`-1`, the number is\n",
       "        set to CPU count.\n",
       "\n",
       "        .. note::\n",
       "            ``n_jobs`` allows parallelization using :obj:`threading` and may suffer from\n",
       "            `Python's GIL <https://wiki.python.org/moin/GlobalInterpreterLock>`_.\n",
       "            It is recommended to use :ref:`process-based parallelization<distributed>`\n",
       "            if ``func`` is CPU bound.\n",
       "\n",
       "        .. warning::\n",
       "            Deprecated in v2.7.0. This feature will be removed in the future.\n",
       "            It is recommended to use :ref:`process-based parallelization<distributed>`.\n",
       "            The removal of this feature is currently scheduled for v4.0.0, but this\n",
       "            schedule is subject to change.\n",
       "            See https://github.com/optuna/optuna/releases/tag/v2.7.0.\n",
       "\n",
       "    catch:\n",
       "        A study continues to run even when a trial raises one of the exceptions specified\n",
       "        in this argument. Default is an empty tuple, i.e. the study will stop for any\n",
       "        exception except for :class:`~optuna.exceptions.TrialPruned`.\n",
       "    callbacks:\n",
       "        List of callback functions that are invoked at the end of each trial. Each function\n",
       "        must accept two parameters with the following types in this order:\n",
       "        :class:`~optuna.study.Study` and :class:`~optuna.FrozenTrial`.\n",
       "    gc_after_trial:\n",
       "        Flag to determine whether to automatically run garbage collection after each trial.\n",
       "        Set to :obj:`True` to run the garbage collection, :obj:`False` otherwise.\n",
       "        When it runs, it runs a full collection by internally calling :func:`gc.collect`.\n",
       "        If you see an increase in memory consumption over several trials, try setting this\n",
       "        flag to :obj:`True`.\n",
       "\n",
       "        .. seealso::\n",
       "\n",
       "            :ref:`out-of-memory-gc-collect`\n",
       "\n",
       "    show_progress_bar:\n",
       "        Flag to show progress bars or not. To disable progress bar, set this :obj:`False`.\n",
       "        Currently, progress bar is experimental feature and disabled\n",
       "        when ``n_jobs`` :math:`\\ne 1`.\n",
       "\n",
       "Raises:\n",
       "    RuntimeError:\n",
       "        If nested invocation of this method occurs.\n",
       "\u001b[0;31mFile:\u001b[0m      /conda/lib/python3.9/site-packages/optuna/study/study.py\n",
       "\u001b[0;31mType:\u001b[0m      method\n"
      ]
     },
     "metadata": {},
     "output_type": "display_data"
    }
   ],
   "source": [
    "study.optimize?"
   ]
  },
  {
   "cell_type": "code",
   "execution_count": 1,
   "id": "586b6638-b7a1-4f27-8384-8a5396861128",
   "metadata": {},
   "outputs": [
    {
     "data": {
      "text/plain": [
       "True"
      ]
     },
     "execution_count": 1,
     "metadata": {},
     "output_type": "execute_result"
    }
   ],
   "source": [
    "import os\n",
    "from pathlib import Path\n",
    "import numpy as np\n",
    "import pandas as pd\n",
    "import torch\n",
    "from torch.utils.data import DataLoader\n",
    "from torchvision.models.detection import maskrcnn_resnet50_fpn\n",
    "from dotenv import load_dotenv\n",
    "from easydict import EasyDict\n",
    "from tqdm import tqdm\n",
    "import pickle\n",
    "\n",
    "from src.postprocessing import postprocess_predictions\n",
    "from src.dataset import CellDataset\n",
    "from src.augmentations import train_transform\n",
    "from src.utils import images2device\n",
    "from src.iou_metric import iou_map\n",
    "\n",
    "current_dir = Path(\".\")\n",
    "load_dotenv()"
   ]
  },
  {
   "cell_type": "code",
   "execution_count": 2,
   "id": "f7289851-d65a-4ded-bb36-1da6636360f2",
   "metadata": {},
   "outputs": [],
   "source": [
    "experiment_name = 'first_baseline_with_metric'\n",
    "weights_name = f'{experiment_name}.ckpt'\n",
    "weights_path = Path(os.environ[\"weights_path\"]) / weights_name"
   ]
  },
  {
   "cell_type": "code",
   "execution_count": 3,
   "id": "14ea3c01-e29c-48d8-9bbc-284bbbd05abe",
   "metadata": {},
   "outputs": [],
   "source": [
    "device = 'cuda:1'\n",
    "config = EasyDict(\n",
    "    dataset_path=Path(os.environ[\"dataset_path\"]),\n",
    "    device=\"cuda:1\",\n",
    "    val_size=0.2,\n",
    "    batch_size=6,\n",
    "    num_workers=30,\n",
    "    epochs=1,\n",
    "    mask_threshold=0.5,\n",
    "    score_threshold=0.2,\n",
    "    nms_threshold=None,\n",
    ")"
   ]
  },
  {
   "cell_type": "code",
   "execution_count": 4,
   "id": "4b09e85e-e5f1-40c5-8e04-def406e41e09",
   "metadata": {},
   "outputs": [
    {
     "name": "stdout",
     "output_type": "stream",
     "text": [
      "\n"
     ]
    }
   ],
   "source": [
    "model = maskrcnn_resnet50_fpn(progress=False, num_classes=2)\n",
    "model.load_state_dict(torch.load(weights_path, map_location=torch.device(device)))\n",
    "model.to(device)\n",
    "model.eval()\n",
    "print()"
   ]
  },
  {
   "cell_type": "code",
   "execution_count": 5,
   "id": "f6d23cdb-abea-4f01-b49a-4f0336511747",
   "metadata": {},
   "outputs": [],
   "source": [
    "train_dataloader = DataLoader(\n",
    "    dataset=CellDataset(cfg=config, mode=\"train\", transform=train_transform),\n",
    "    num_workers=30,\n",
    "    batch_size=config.batch_size,\n",
    "    collate_fn=lambda x: tuple(zip(*x)),\n",
    ")"
   ]
  },
  {
   "cell_type": "code",
   "execution_count": 8,
   "id": "8c7a59b0-9792-4788-868a-67dcc3585cad",
   "metadata": {},
   "outputs": [],
   "source": [
    "def evaluate_thresholds(trial):\n",
    "    mask_thr = trial.suggest_float('mask_thr', 0.0, 0.95)\n",
    "    score_thr = trial.suggest_float('score_thr', 0.0, 0.95)\n",
    "    nms_thr = trial.suggest_float('nms_thr', 0.0, 1.0)\n",
    "    ious = []\n",
    "    for batch_idx, (images, targets) in enumerate(tqdm(train_dataloader)):\n",
    "        images= images2device(images, device)\n",
    "        outputs = model(images)\n",
    "        processed_outputs = postprocess_predictions(outputs, mask_thr, score_thr, nms_thr)\n",
    "        for i in range(len(images)):\n",
    "            predicted_masks = processed_outputs[i]['masks']\n",
    "            true_masks = targets[i]['masks']\n",
    "            # print(predicted_masks.shape, true_masks.shape)\n",
    "            iou = iou_map(predicted_masks, true_masks.numpy())\n",
    "            ious.append(iou)\n",
    "    return np.mean(ious)"
   ]
  },
  {
   "cell_type": "code",
   "execution_count": 9,
   "id": "fcf4be78-186d-4bea-99d8-bc42f017dc57",
   "metadata": {},
   "outputs": [],
   "source": [
    "os.makedirs('thresholds', exist_ok=True)"
   ]
  },
  {
   "cell_type": "code",
   "execution_count": 11,
   "id": "2d0efda0-ae24-4c73-b17e-6b55b36b1368",
   "metadata": {},
   "outputs": [
    {
     "name": "stderr",
     "output_type": "stream",
     "text": [
      "\u001b[32m[I 2021-12-15 21:21:06,529]\u001b[0m A new study created in memory with name: no-name-717f2439-c48b-4aa9-ad42-ecc3e0e279cf\u001b[0m\n"
     ]
    },
    {
     "ename": "TypeError",
     "evalue": "optimize() got an unexpected keyword argument 'maximize'",
     "output_type": "error",
     "traceback": [
      "\u001b[0;31m---------------------------------------------------------------------------\u001b[0m",
      "\u001b[0;31mTypeError\u001b[0m                                 Traceback (most recent call last)",
      "\u001b[0;32m/tmp/ipykernel_39952/1457811907.py\u001b[0m in \u001b[0;36m<module>\u001b[0;34m\u001b[0m\n\u001b[1;32m      2\u001b[0m \u001b[0mstudy\u001b[0m \u001b[0;34m=\u001b[0m \u001b[0moptuna\u001b[0m\u001b[0;34m.\u001b[0m\u001b[0mcreate_study\u001b[0m\u001b[0;34m(\u001b[0m\u001b[0;34m)\u001b[0m\u001b[0;34m\u001b[0m\u001b[0;34m\u001b[0m\u001b[0m\n\u001b[1;32m      3\u001b[0m \u001b[0;32mfor\u001b[0m \u001b[0mi\u001b[0m \u001b[0;32min\u001b[0m \u001b[0mrange\u001b[0m\u001b[0;34m(\u001b[0m\u001b[0;36m5\u001b[0m\u001b[0;34m)\u001b[0m\u001b[0;34m:\u001b[0m\u001b[0;34m\u001b[0m\u001b[0;34m\u001b[0m\u001b[0m\n\u001b[0;32m----> 4\u001b[0;31m     \u001b[0mstudy\u001b[0m\u001b[0;34m.\u001b[0m\u001b[0moptimize\u001b[0m\u001b[0;34m(\u001b[0m\u001b[0mevaluate_thresholds\u001b[0m\u001b[0;34m,\u001b[0m \u001b[0mn_trials\u001b[0m\u001b[0;34m=\u001b[0m\u001b[0;36m1\u001b[0m\u001b[0;34m,\u001b[0m \u001b[0mmaximize\u001b[0m\u001b[0;34m=\u001b[0m\u001b[0;32mTrue\u001b[0m\u001b[0;34m)\u001b[0m\u001b[0;34m\u001b[0m\u001b[0;34m\u001b[0m\u001b[0m\n\u001b[0m\u001b[1;32m      5\u001b[0m     \u001b[0;32mwith\u001b[0m \u001b[0mopen\u001b[0m\u001b[0;34m(\u001b[0m\u001b[0;34mf\"thresholds/{experiment_name}.pickle\"\u001b[0m\u001b[0;34m,\u001b[0m \u001b[0;34m'wb'\u001b[0m\u001b[0;34m)\u001b[0m \u001b[0;32mas\u001b[0m \u001b[0mfile\u001b[0m\u001b[0;34m:\u001b[0m\u001b[0;34m\u001b[0m\u001b[0;34m\u001b[0m\u001b[0m\n\u001b[1;32m      6\u001b[0m         \u001b[0mpickle\u001b[0m\u001b[0;34m.\u001b[0m\u001b[0mdump\u001b[0m\u001b[0;34m(\u001b[0m\u001b[0mstudy\u001b[0m\u001b[0;34m,\u001b[0m \u001b[0mfile\u001b[0m\u001b[0;34m)\u001b[0m\u001b[0;34m\u001b[0m\u001b[0;34m\u001b[0m\u001b[0m\n",
      "\u001b[0;31mTypeError\u001b[0m: optimize() got an unexpected keyword argument 'maximize'"
     ]
    }
   ],
   "source": [
    "import optuna\n",
    "study = optuna.create_study(direction='maximize')\n",
    "for i in range(5):\n",
    "    study.optimize(evaluate_thresholds, n_trials=1)\n",
    "    with open(f\"thresholds/{experiment_name}.pickle\", 'wb') as file:\n",
    "        pickle.dump(study, file)\n",
    "    study.trials_dataframe().to_csv(f\"thresholds/{experiment_name}.csv\", index=False)"
   ]
  },
  {
   "cell_type": "code",
   "execution_count": null,
   "id": "8a9609a3-102f-4afe-a474-abb85884a689",
   "metadata": {},
   "outputs": [],
   "source": []
  }
 ],
 "metadata": {
  "kernelspec": {
   "display_name": "Python 3 (ipykernel)",
   "language": "python",
   "name": "python3"
  },
  "language_info": {
   "codemirror_mode": {
    "name": "ipython",
    "version": 3
   },
   "file_extension": ".py",
   "mimetype": "text/x-python",
   "name": "python",
   "nbconvert_exporter": "python",
   "pygments_lexer": "ipython3",
   "version": "3.9.7"
  }
 },
 "nbformat": 4,
 "nbformat_minor": 5
}
