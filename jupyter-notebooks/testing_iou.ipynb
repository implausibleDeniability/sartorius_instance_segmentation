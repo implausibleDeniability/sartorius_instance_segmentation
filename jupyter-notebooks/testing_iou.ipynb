{
 "cells": [
  {
   "cell_type": "code",
   "execution_count": 1,
   "metadata": {
    "tags": []
   },
   "outputs": [
    {
     "name": "stdout",
     "output_type": "stream",
     "text": [
      "Using manual seed: 0\n"
     ]
    }
   ],
   "source": [
    "import os\n",
    "from pathlib import Path\n",
    "\n",
    "import matplotlib.pyplot as plt\n",
    "import numpy as np\n",
    "from torchvision.models.detection import maskrcnn_resnet50_fpn\n",
    "import torch\n",
    "from src.dataset import CellDataset\n",
    "from easydict import EasyDict\n",
    "from dotenv import load_dotenv\n",
    "from src.augmentations import eval_transform\n",
    "from pytorch_toolbelt.utils import set_manual_seed\n",
    "from src.postprocessing import remove_overlapping_pixels, postprocess_predictions\n",
    "\n",
    "from src.iou_metric import iou_map\n",
    "\n",
    "current_dir = Path(\".\")\n",
    "\n",
    "load_dotenv()\n",
    "set_manual_seed(0)"
   ]
  },
  {
   "cell_type": "code",
   "execution_count": 2,
   "metadata": {
    "collapsed": false,
    "jupyter": {
     "outputs_hidden": false
    },
    "pycharm": {
     "name": "#%%\n"
    }
   },
   "outputs": [],
   "source": [
    "plt.rcParams[\"figure.figsize\"] = (8, 8)\n",
    "\n",
    "weights_path = current_dir / \"weights\" / \"maxim_baseline.ckpt\"\n",
    "assert weights_path.is_file(), f\"File not found: {weights_path.absolute()}\"\n",
    "\n",
    "config = EasyDict(\n",
    "    dataset_path=Path(os.environ['dataset_path']),\n",
    "    val_size=0.2,\n",
    "    device='cpu'\n",
    ")\n",
    "\n",
    "device = config.device"
   ]
  },
  {
   "cell_type": "code",
   "execution_count": 3,
   "metadata": {
    "collapsed": false,
    "jupyter": {
     "outputs_hidden": false
    },
    "pycharm": {
     "name": "#%%\n"
    }
   },
   "outputs": [
    {
     "name": "stdout",
     "output_type": "stream",
     "text": [
      "torch.Size([1, 520, 704])\n",
      "torch.Size([21, 520, 704])\n"
     ]
    }
   ],
   "source": [
    "dataset = CellDataset(cfg=config, transform=eval_transform, mode='train')\n",
    "image, target = dataset[0]\n",
    "true_masks = target['masks']\n",
    "\n",
    "print(image.size())\n",
    "print(true_masks.size())\n",
    "\n",
    "true_masks = true_masks.cpu().int().numpy()"
   ]
  },
  {
   "cell_type": "code",
   "execution_count": 4,
   "metadata": {
    "collapsed": false,
    "jupyter": {
     "outputs_hidden": false
    },
    "pycharm": {
     "name": "#%%\n"
    }
   },
   "outputs": [
    {
     "name": "stdout",
     "output_type": "stream",
     "text": [
      "\n"
     ]
    }
   ],
   "source": [
    "model = maskrcnn_resnet50_fpn(progress=False, num_classes=2)\n",
    "model.load_state_dict(torch.load(weights_path, map_location=device))\n",
    "model.to(device)\n",
    "model.eval()\n",
    "print()"
   ]
  },
  {
   "cell_type": "code",
   "execution_count": 10,
   "metadata": {
    "collapsed": false,
    "jupyter": {
     "outputs_hidden": false
    },
    "pycharm": {
     "name": "#%%\n"
    }
   },
   "outputs": [],
   "source": [
    "image = image.to(device)\n",
    "\n",
    "with torch.no_grad():\n",
    "    outputs = model.forward([image])\n",
    "\n",
    "prediction = postprocess_predictions(outputs=outputs, mask_threshold=0.5, score_threshold=0.4)[0]\n"
   ]
  },
  {
   "cell_type": "code",
   "execution_count": 11,
   "metadata": {
    "collapsed": false,
    "jupyter": {
     "outputs_hidden": false
    },
    "pycharm": {
     "name": "#%%\n"
    }
   },
   "outputs": [
    {
     "data": {
      "image/png": "[encoded data removed]",
      "text/plain": [
       "<Figure size 1440x1440 with 2 Axes>"
      ]
     },
     "metadata": {
      "needs_background": "light"
     },
     "output_type": "display_data"
    }
   ],
   "source": [
    "## Visualisation of predictions\n",
    "pred_masks = prediction['masks']\n",
    "true_masks = true_masks\n",
    "\n",
    "pred_masks_2d = np.sum(pred_masks, axis=0)\n",
    "true_masks_2d = np.sum(true_masks, axis=0)\n",
    "\n",
    "fig, axis = plt.subplots(ncols=2, figsize=(20, 20))\n",
    "axis[0].imshow(pred_masks_2d, cmap='gray')\n",
    "axis[1].imshow(true_masks_2d,  cmap='gray')\n",
    "plt.show()\n"
   ]
  },
  {
   "cell_type": "code",
   "execution_count": 12,
   "metadata": {
    "collapsed": false,
    "jupyter": {
     "outputs_hidden": false
    },
    "pycharm": {
     "name": "#%%\n"
    }
   },
   "outputs": [
    {
     "data": {
      "text/plain": [
       "0.3214554201402133"
      ]
     },
     "execution_count": 12,
     "metadata": {},
     "output_type": "execute_result"
    }
   ],
   "source": [
    "## Calculation of iou score\n",
    "score = iou_map(true_masks, prediction['masks'])\n",
    "score"
   ]
  },
  {
   "cell_type": "code",
   "execution_count": 13,
   "metadata": {},
   "outputs": [
    {
     "data": {
      "text/plain": [
       "0.3276211158052671"
      ]
     },
     "execution_count": 13,
     "metadata": {},
     "output_type": "execute_result"
    }
   ],
   "source": [
    "from src.iou_metric import fast_iou\n",
    "fast_iou(prediction['masks'], true_masks)"
   ]
  }
 ],
 "metadata": {
  "kernelspec": {
   "display_name": "Python 3 (ipykernel)",
   "language": "python",
   "name": "python3"
  },
  "language_info": {
   "codemirror_mode": {
    "name": "ipython",
    "version": 3
   },
   "file_extension": ".py",
   "mimetype": "text/x-python",
   "name": "python",
   "nbconvert_exporter": "python",
   "pygments_lexer": "ipython3",
   "version": "3.9.7"
  }
 },
 "nbformat": 4,
 "nbformat_minor": 4
}