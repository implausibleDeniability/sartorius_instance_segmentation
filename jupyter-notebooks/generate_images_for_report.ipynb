{
 "cells": [
  {
   "cell_type": "code",
   "execution_count": 19,
   "id": "add61563-44e1-4e37-b617-070248b25fcd",
   "metadata": {},
   "outputs": [],
   "source": [
    "import os\n",
    "import pandas as pd\n",
    "from matplotlib import pyplot as plt\n",
    "import seaborn as sns"
   ]
  },
  {
   "cell_type": "code",
   "execution_count": 20,
   "id": "0fc1fcc7-a71c-44f9-b963-f6fd74a325cb",
   "metadata": {},
   "outputs": [
    {
     "data": {
      "text/plain": "             id                                         annotation  width  \\\n0  0030fd0e6378  118145 6 118849 7 119553 8 120257 8 120961 9 1...    704   \n1  0030fd0e6378  189036 1 189739 3 190441 6 191144 7 191848 8 1...    704   \n2  0030fd0e6378  173567 3 174270 5 174974 5 175678 6 176382 7 1...    704   \n3  0030fd0e6378  196723 4 197427 6 198130 7 198834 8 199538 8 2...    704   \n4  0030fd0e6378  167818 3 168522 5 169225 7 169928 8 170632 9 1...    704   \n\n   height cell_type plate_time sample_date  \\\n0     520    shsy5y  11h30m00s  2019-06-16   \n1     520    shsy5y  11h30m00s  2019-06-16   \n2     520    shsy5y  11h30m00s  2019-06-16   \n3     520    shsy5y  11h30m00s  2019-06-16   \n4     520    shsy5y  11h30m00s  2019-06-16   \n\n                            sample_id elapsed_timedelta  \n0  shsy5y[diff]_E10-4_Vessel-714_Ph_3   0 days 11:30:00  \n1  shsy5y[diff]_E10-4_Vessel-714_Ph_3   0 days 11:30:00  \n2  shsy5y[diff]_E10-4_Vessel-714_Ph_3   0 days 11:30:00  \n3  shsy5y[diff]_E10-4_Vessel-714_Ph_3   0 days 11:30:00  \n4  shsy5y[diff]_E10-4_Vessel-714_Ph_3   0 days 11:30:00  ",
      "text/html": "<div>\n<style scoped>\n    .dataframe tbody tr th:only-of-type {\n        vertical-align: middle;\n    }\n\n    .dataframe tbody tr th {\n        vertical-align: top;\n    }\n\n    .dataframe thead th {\n        text-align: right;\n    }\n</style>\n<table border=\"1\" class=\"dataframe\">\n  <thead>\n    <tr style=\"text-align: right;\">\n      <th></th>\n      <th>id</th>\n      <th>annotation</th>\n      <th>width</th>\n      <th>height</th>\n      <th>cell_type</th>\n      <th>plate_time</th>\n      <th>sample_date</th>\n      <th>sample_id</th>\n      <th>elapsed_timedelta</th>\n    </tr>\n  </thead>\n  <tbody>\n    <tr>\n      <th>0</th>\n      <td>0030fd0e6378</td>\n      <td>118145 6 118849 7 119553 8 120257 8 120961 9 1...</td>\n      <td>704</td>\n      <td>520</td>\n      <td>shsy5y</td>\n      <td>11h30m00s</td>\n      <td>2019-06-16</td>\n      <td>shsy5y[diff]_E10-4_Vessel-714_Ph_3</td>\n      <td>0 days 11:30:00</td>\n    </tr>\n    <tr>\n      <th>1</th>\n      <td>0030fd0e6378</td>\n      <td>189036 1 189739 3 190441 6 191144 7 191848 8 1...</td>\n      <td>704</td>\n      <td>520</td>\n      <td>shsy5y</td>\n      <td>11h30m00s</td>\n      <td>2019-06-16</td>\n      <td>shsy5y[diff]_E10-4_Vessel-714_Ph_3</td>\n      <td>0 days 11:30:00</td>\n    </tr>\n    <tr>\n      <th>2</th>\n      <td>0030fd0e6378</td>\n      <td>173567 3 174270 5 174974 5 175678 6 176382 7 1...</td>\n      <td>704</td>\n      <td>520</td>\n      <td>shsy5y</td>\n      <td>11h30m00s</td>\n      <td>2019-06-16</td>\n      <td>shsy5y[diff]_E10-4_Vessel-714_Ph_3</td>\n      <td>0 days 11:30:00</td>\n    </tr>\n    <tr>\n      <th>3</th>\n      <td>0030fd0e6378</td>\n      <td>196723 4 197427 6 198130 7 198834 8 199538 8 2...</td>\n      <td>704</td>\n      <td>520</td>\n      <td>shsy5y</td>\n      <td>11h30m00s</td>\n      <td>2019-06-16</td>\n      <td>shsy5y[diff]_E10-4_Vessel-714_Ph_3</td>\n      <td>0 days 11:30:00</td>\n    </tr>\n    <tr>\n      <th>4</th>\n      <td>0030fd0e6378</td>\n      <td>167818 3 168522 5 169225 7 169928 8 170632 9 1...</td>\n      <td>704</td>\n      <td>520</td>\n      <td>shsy5y</td>\n      <td>11h30m00s</td>\n      <td>2019-06-16</td>\n      <td>shsy5y[diff]_E10-4_Vessel-714_Ph_3</td>\n      <td>0 days 11:30:00</td>\n    </tr>\n  </tbody>\n</table>\n</div>"
     },
     "execution_count": 20,
     "metadata": {},
     "output_type": "execute_result"
    }
   ],
   "source": [
    "df = pd.read_csv(\"../data/train.csv\")\n",
    "df.head()"
   ]
  },
  {
   "cell_type": "markdown",
   "source": [],
   "metadata": {
    "collapsed": false
   }
  },
  {
   "cell_type": "code",
   "execution_count": 28,
   "id": "d0af9f1f-5a41-48c3-a3aa-a27208ff03a8",
   "metadata": {},
   "outputs": [
    {
     "name": "stdout",
     "output_type": "stream",
     "text": [
      "790\n"
     ]
    },
    {
     "data": {
      "text/plain": "<Figure size 432x288 with 1 Axes>",
      "image/png": "[encoded data removed]"
     },
     "metadata": {
      "needs_background": "light"
     },
     "output_type": "display_data"
    }
   ],
   "source": [
    "sns.histplot(df.groupby(\"id\").annotation.count())\n",
    "print(max(df.groupby(\"id\").annotation.count()))\n",
    "plt.xlabel(\"Number of cell on image\")\n",
    "plt.ylabel(\"Count\")\n",
    "plt.savefig(\"../figures/dist.png\")"
   ]
  },
  {
   "cell_type": "code",
   "execution_count": 26,
   "outputs": [
    {
     "data": {
      "text/plain": "Counter({'shsy5y': 155, 'astro': 131, 'cort': 320})"
     },
     "execution_count": 26,
     "metadata": {},
     "output_type": "execute_result"
    },
    {
     "data": {
      "text/plain": "<Figure size 432x288 with 1 Axes>",
      "image/png": "[encoded data removed]"
     },
     "metadata": {
      "needs_background": "light"
     },
     "output_type": "display_data"
    }
   ],
   "source": [
    "\n",
    "df_drop = df.drop_duplicates(subset=['id'])\n",
    "\n",
    "sns.histplot(df_drop.cell_type)\n",
    "plt.xlabel(\"Cell types\")\n",
    "plt.ylabel(\"Count\")\n",
    "plt.savefig(\"../figures/a.png\")\n",
    "\n",
    "from collections import Counter\n",
    "\n"
   ],
   "metadata": {
    "collapsed": false
   }
  },
  {
   "cell_type": "code",
   "execution_count": null,
   "outputs": [],
   "source": [],
   "metadata": {
    "collapsed": false
   }
  }
 ],
 "metadata": {
  "kernelspec": {
   "display_name": "Python 3 (ipykernel)",
   "language": "python",
   "name": "python3"
  },
  "language_info": {
   "codemirror_mode": {
    "name": "ipython",
    "version": 3
   },
   "file_extension": ".py",
   "mimetype": "text/x-python",
   "name": "python",
   "nbconvert_exporter": "python",
   "pygments_lexer": "ipython3",
   "version": "3.9.7"
  }
 },
 "nbformat": 4,
 "nbformat_minor": 5
}
