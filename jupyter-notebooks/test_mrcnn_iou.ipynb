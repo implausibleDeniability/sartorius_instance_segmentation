{
 "cells": [
  {
   "cell_type": "code",
   "execution_count": 13,
   "metadata": {
    "collapsed": true
   },
   "outputs": [
    {
     "data": {
      "text/plain": "True"
     },
     "execution_count": 13,
     "metadata": {},
     "output_type": "execute_result"
    }
   ],
   "source": [
    "import os\n",
    "from pathlib import Path\n",
    "\n",
    "import numpy as np\n",
    "import torch\n",
    "from easydict import EasyDict\n",
    "\n",
    "from src.dataset import CellDataset\n",
    "from src.augmentations import train_transform\n",
    "from torchvision.models.detection import maskrcnn_resnet50_fpn\n",
    "from mrcnn.utils import compute_ap_range\n",
    "from dotenv import load_dotenv\n",
    "from src.iou_metric import iou_map\n",
    "load_dotenv()"
   ]
  },
  {
   "cell_type": "code",
   "execution_count": 2,
   "outputs": [],
   "source": [
    "config = EasyDict(\n",
    "    dataset_path=Path(os.environ['dataset_path']),\n",
    "    val_size=0.2,\n",
    "    device='cpu'\n",
    ")\n"
   ],
   "metadata": {
    "collapsed": false,
    "pycharm": {
     "name": "#%%\n"
    }
   }
  },
  {
   "cell_type": "code",
   "execution_count": 3,
   "outputs": [],
   "source": [
    "dataset = CellDataset(config, mode='train', transform=train_transform)\n",
    "image, target = dataset[0]\n",
    "\n"
   ],
   "metadata": {
    "collapsed": false,
    "pycharm": {
     "name": "#%%\n"
    }
   }
  },
  {
   "cell_type": "code",
   "execution_count": 4,
   "outputs": [
    {
     "data": {
      "text/plain": "<All keys matched successfully>"
     },
     "execution_count": 4,
     "metadata": {},
     "output_type": "execute_result"
    }
   ],
   "source": [
    "model = maskrcnn_resnet50_fpn(num_classes=4, box_detections_per_img=500)\n",
    "model.eval()\n",
    "\n",
    "path = Path(\"/home/shamil/PycharmProjects/sartorius_instance_segmentation/weights/bsln70ep_flips_multiclass-2021-12-18 22_50_46.ckpt\")\n",
    "model.load_state_dict(torch.load(path, map_location=torch.device('cpu')))"
   ],
   "metadata": {
    "collapsed": false,
    "pycharm": {
     "name": "#%%\n"
    }
   }
  },
  {
   "cell_type": "code",
   "execution_count": 5,
   "outputs": [],
   "source": [
    "with torch.no_grad():\n",
    "    output = model.forward([image])[0]"
   ],
   "metadata": {
    "collapsed": false,
    "pycharm": {
     "name": "#%%\n"
    }
   }
  },
  {
   "cell_type": "code",
   "execution_count": 26,
   "outputs": [],
   "source": [
    "def swap_columns(data):\n",
    "    return data[:, [1, 0, 3, 2]]\n",
    "\n",
    "true_masks = target['masks'].squeeze().numpy()\n",
    "true_masks = np.transpose(true_masks, axes=(1,2, 0))\n",
    "\n",
    "pred_masks = output['masks'].squeeze().numpy()\n",
    "pred_masks = (pred_masks > 0.5).astype(int)\n",
    "pred_masks = np.transpose(pred_masks, axes=(1, 2, 0))\n",
    "\n",
    "pred_boxes = swap_columns(output['boxes'].numpy())\n",
    "\n",
    "true_boxes = swap_columns(target['boxes'].numpy())"
   ],
   "metadata": {
    "collapsed": false,
    "pycharm": {
     "name": "#%%\n"
    }
   }
  },
  {
   "cell_type": "code",
   "execution_count": 24,
   "outputs": [
    {
     "data": {
      "text/plain": "0.20674316359380435"
     },
     "execution_count": 24,
     "metadata": {},
     "output_type": "execute_result"
    }
   ],
   "source": [
    "compute_ap_range(gt_box=true_boxes, gt_mask=true_masks, gt_class_id=target['labels'].numpy(),\n",
    "                 pred_box=pred_boxes, pred_mask=pred_masks, pred_class_id=output['labels'].numpy(),\n",
    "                 pred_score=output['scores'].numpy(), verbose=False)"
   ],
   "metadata": {
    "collapsed": false,
    "pycharm": {
     "name": "#%%\n"
    }
   }
  },
  {
   "cell_type": "code",
   "execution_count": 25,
   "outputs": [
    {
     "data": {
      "text/plain": "0.16499257650207869"
     },
     "execution_count": 25,
     "metadata": {},
     "output_type": "execute_result"
    }
   ],
   "source": [
    "true = target['masks'].int().numpy().squeeze()\n",
    "pred = output['masks'].numpy().squeeze()\n",
    "pred = (pred > 0.5).astype(int)\n",
    "\n",
    "iou_map(true, pred)"
   ],
   "metadata": {
    "collapsed": false,
    "pycharm": {
     "name": "#%%\n"
    }
   }
  }
 ],
 "metadata": {
  "kernelspec": {
   "display_name": "Python 3",
   "language": "python",
   "name": "python3"
  },
  "language_info": {
   "codemirror_mode": {
    "name": "ipython",
    "version": 2
   },
   "file_extension": ".py",
   "mimetype": "text/x-python",
   "name": "python",
   "nbconvert_exporter": "python",
   "pygments_lexer": "ipython2",
   "version": "2.7.6"
  }
 },
 "nbformat": 4,
 "nbformat_minor": 0
}