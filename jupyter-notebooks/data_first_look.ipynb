{
 "cells": [
  {
   "cell_type": "code",
   "execution_count": 1,
   "id": "1bbfd7e8-0fd1-4d21-9f5a-67ec5c04ebe0",
   "metadata": {},
   "outputs": [],
   "source": [
    "import os\n",
    "\n",
    "import pandas as pd\n",
    "import numpy as np\n",
    "import json\n",
    "import cv2\n",
    "from pathlib import Path\n",
    "from matplotlib import pyplot as plt"
   ]
  },
  {
   "cell_type": "code",
   "execution_count": 2,
   "id": "efa59e3b-1ec2-4dcc-962c-5b5898ad34fb",
   "metadata": {},
   "outputs": [],
   "source": [
    "data_directory = Path(\"/data/kaggle_data/\")"
   ]
  },
  {
   "cell_type": "code",
   "execution_count": 3,
   "id": "bf9fa8a8-55d5-4a33-9fd2-54a2039e5cde",
   "metadata": {},
   "outputs": [
    {
     "ename": "FileNotFoundError",
     "evalue": "[Errno 2] No such file or directory: '/data/kaggle_data'",
     "output_type": "error",
     "traceback": [
      "\u001B[0;31m---------------------------------------------------------------------------\u001B[0m",
      "\u001B[0;31mFileNotFoundError\u001B[0m                         Traceback (most recent call last)",
      "\u001B[0;32m/tmp/ipykernel_10091/4212020362.py\u001B[0m in \u001B[0;36m<module>\u001B[0;34m\u001B[0m\n\u001B[0;32m----> 1\u001B[0;31m \u001B[0mos\u001B[0m\u001B[0;34m.\u001B[0m\u001B[0mlistdir\u001B[0m\u001B[0;34m(\u001B[0m\u001B[0mdata_directory\u001B[0m\u001B[0;34m)\u001B[0m\u001B[0;34m\u001B[0m\u001B[0;34m\u001B[0m\u001B[0m\n\u001B[0m",
      "\u001B[0;31mFileNotFoundError\u001B[0m: [Errno 2] No such file or directory: '/data/kaggle_data'"
     ]
    }
   ],
   "source": [
    "os.listdir(data_directory)"
   ]
  },
  {
   "cell_type": "markdown",
   "id": "87605166-06d9-4eb2-ab93-fa20920cfd9b",
   "metadata": {},
   "source": [
    "# train.csv"
   ]
  },
  {
   "cell_type": "code",
   "execution_count": null,
   "id": "890fb98b-637d-43d5-8f2a-04af4a16725c",
   "metadata": {},
   "outputs": [],
   "source": [
    "train_df = pd.read_csv(data_directory / \"train.csv\")\n",
    "train_df.sample(4)  \n",
    "# width and height are the same for all images\n",
    "# 73585 objects in train"
   ]
  },
  {
   "cell_type": "code",
   "execution_count": null,
   "id": "fc252324-2a5c-4c17-a4d2-65f23dffb636",
   "metadata": {},
   "outputs": [],
   "source": [
    "train_df['cell_type'].hist(grid=False)"
   ]
  },
  {
   "cell_type": "code",
   "execution_count": null,
   "id": "1261f123-14ac-4a80-96ee-6ceb62e82911",
   "metadata": {},
   "outputs": [],
   "source": [
    "train_df.annotation[43]"
   ]
  },
  {
   "cell_type": "markdown",
   "id": "173b2bb0-b862-43dd-aa5e-3688af9690e1",
   "metadata": {},
   "source": [
    "# LIVECell_dataset_2021/"
   ]
  },
  {
   "cell_type": "code",
   "execution_count": null,
   "id": "4ab088f2-10a6-4428-b80e-d81f46cba224",
   "metadata": {},
   "outputs": [],
   "source": [
    "os.listdir(data_directory / 'LIVECell_dataset_2021')"
   ]
  },
  {
   "cell_type": "code",
   "execution_count": null,
   "id": "18f272c1-16ff-4025-ad46-f85bceb7f64a",
   "metadata": {},
   "outputs": [],
   "source": [
    "cell_types = os.listdir(data_directory / 'LIVECell_dataset_2021' / 'images' / 'livecell_train_val_images') \n",
    "print(\"Cell types:\", \", \".join(cell_types))"
   ]
  },
  {
   "cell_type": "markdown",
   "id": "e9c22592-b5ea-4f1c-9963-e091c3d7ff36",
   "metadata": {},
   "source": [
    "### images"
   ]
  },
  {
   "cell_type": "code",
   "execution_count": null,
   "id": "a410d048-8be6-47c6-8100-278b4af9ef8e",
   "metadata": {},
   "outputs": [],
   "source": [
    "type_ = 'SkBr3'\n",
    "type_path = data_directory / 'LIVECell_dataset_2021' / 'images' / 'livecell_train_val_images' / type_\n",
    "image_path = type_path / os.listdir(type_path)[0]\n",
    "image = cv2.imread(str(image_path))\n",
    "plt.imshow(image)"
   ]
  },
  {
   "cell_type": "markdown",
   "id": "285dbdb4-7d4e-4b74-93af-d2bcd56041d5",
   "metadata": {},
   "source": [
    "### annotations"
   ]
  },
  {
   "cell_type": "code",
   "execution_count": null,
   "id": "32494daa-4255-4875-a864-eb9ea1ec0daa",
   "metadata": {},
   "outputs": [],
   "source": [
    "with open(data_directory / 'LIVECell_dataset_2021' / 'annotations' / 'LIVECell' / 'livecell_coco_train.json') as file:\n",
    "    livecell_coco_train = json.load(file)"
   ]
  },
  {
   "cell_type": "code",
   "execution_count": null,
   "id": "07019a3e-3cc5-4637-a8a1-9944e7d40744",
   "metadata": {},
   "outputs": [],
   "source": [
    "with open(data_directory / 'LIVECell_dataset_2021' / 'annotations' / 'LIVECell_single_cells' / 'skbr3' / 'livecell_skbr3_train.json') as file:\n",
    "    livecell_skbr3_train = json.load(file)"
   ]
  },
  {
   "cell_type": "code",
   "execution_count": null,
   "id": "c29fd921-64de-4666-a48e-ead091a2c501",
   "metadata": {},
   "outputs": [],
   "source": [
    "livecell_coco_train['annotations']['2']\n",
    "# the following looks quite the same\n",
    "# livecell_skbr3_train['annotations']['1157048']"
   ]
  },
  {
   "cell_type": "markdown",
   "id": "645512ba-69fd-4e4c-a307-733a8c161caf",
   "metadata": {},
   "source": [
    "# train_semi_supervised/"
   ]
  },
  {
   "cell_type": "code",
   "execution_count": null,
   "id": "17b4d4aa-8bf3-4a6e-b865-cf9810e3463f",
   "metadata": {},
   "outputs": [],
   "source": [
    "print(len(os.listdir(data_directory / 'train_semi_supervised')))\n",
    "os.listdir(data_directory / 'train_semi_supervised')[:3]"
   ]
  },
  {
   "cell_type": "code",
   "execution_count": null,
   "id": "bfbd3686-5fbb-435f-a710-47c850e35637",
   "metadata": {},
   "outputs": [],
   "source": [
    "semis_supervised_image = cv2.imread(str(data_directory / 'train_semi_supervised' / 'cort[pre-treat]_B8-4_Vessel-377_2020-10-29_13h30m00s_Ph_2.png'))"
   ]
  },
  {
   "cell_type": "code",
   "execution_count": null,
   "id": "5bbc4d90-36c6-473e-8f5e-4b3f51668755",
   "metadata": {},
   "outputs": [],
   "source": [
    "plt.imshow(semis_supervised_image)"
   ]
  },
  {
   "cell_type": "code",
   "execution_count": null,
   "id": "d08924e4-a335-4720-81b7-d81ed0e87c02",
   "metadata": {},
   "outputs": [],
   "source": [
    "print(len(os.listdir(data_directory / 'train')))"
   ]
  },
  {
   "cell_type": "markdown",
   "id": "589f04f2-2ca3-4493-9756-dc16bb23c9d3",
   "metadata": {},
   "source": [
    "# train/"
   ]
  },
  {
   "cell_type": "code",
   "execution_count": null,
   "id": "f0f06ae6-f347-4167-bd67-9176b34c07f2",
   "metadata": {},
   "outputs": [],
   "source": [
    "train_image = cv2.imread(str(data_directory / 'train' / '1c16d5cb1f30.png'))"
   ]
  },
  {
   "cell_type": "code",
   "execution_count": null,
   "id": "80fdf3a9-44cc-4c21-bbf4-e5ec3a5ea1c2",
   "metadata": {},
   "outputs": [],
   "source": [
    "plt.imshow(train_image)"
   ]
  }
 ],
 "metadata": {
  "kernelspec": {
   "display_name": "Python 3 (ipykernel)",
   "language": "python",
   "name": "python3"
  },
  "language_info": {
   "codemirror_mode": {
    "name": "ipython",
    "version": 3
   },
   "file_extension": ".py",
   "mimetype": "text/x-python",
   "name": "python",
   "nbconvert_exporter": "python",
   "pygments_lexer": "ipython3",
   "version": "3.9.7"
  }
 },
 "nbformat": 4,
 "nbformat_minor": 5
}