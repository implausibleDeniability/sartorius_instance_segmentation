{
 "cells": [
  {
   "cell_type": "code",
   "execution_count": 2,
   "metadata": {
    "collapsed": true
   },
   "outputs": [],
   "source": [
    "from pathlib import Path\n",
    "\n",
    "import pandas as pd\n",
    "from sklearn.model_selection import train_test_split\n",
    "from torch.utils.data import Dataset, DataLoader\n",
    "from easydict import EasyDict\n",
    "import torch\n",
    "\n",
    "import numpy as np\n",
    "\n",
    "np.random.seed(0)"
   ]
  },
  {
   "cell_type": "code",
   "execution_count": null,
   "outputs": [],
   "source": [
    "# Global config of dataset, not tunable parameters\n",
    "config = EasyDict(\n",
    "    dataset_path=Path(\"../data\"),\n",
    "    val_size=0.2,\n",
    ")\n"
   ],
   "metadata": {
    "collapsed": false,
    "pycharm": {
     "name": "#%%\n"
    }
   }
  },
  {
   "cell_type": "code",
   "execution_count": null,
   "outputs": [],
   "source": [
    "\n",
    "class CellDataset(Dataset):\n",
    "    def __init__(self, cfg: EasyDict, mode: str):\n",
    "        assert mode == 'train' or mode == 'test'\n",
    "        self.image_folder = cfg.dataset_path / \"train\"\n",
    "\n",
    "        data_csv = pd.read_csv(cfg.dataset_path / \"train.csv\")\n",
    "        data_csv = data_csv[['id', 'annotation', 'cell_type']]\n",
    "        data_csv = data_csv.groupby(['id', 'cell_type'])['annotation'].agg(lambda x: list(x)).reset_index()\n",
    "\n",
    "        # Now data_csv has 606 rows with 3 columns:\n",
    "        # - id - id of image,\n",
    "        # - cell_type - type of cell,\n",
    "        # - annotation - list of rle strings\n",
    "        if mode == 'train':\n",
    "            self.data_csv, _ = train_test_split(data_csv, test_size=cfg.val_size, random_state=0)\n",
    "\n",
    "        else:\n",
    "            _, self.data_csv = train_test_split(data_csv, test_size=cfg.val_size, random_state=0)\n",
    "\n",
    "\n",
    "\n",
    "\n"
   ],
   "metadata": {
    "collapsed": false,
    "pycharm": {
     "name": "#%%\n"
    }
   }
  },
  {
   "cell_type": "code",
   "execution_count": 12,
   "outputs": [
    {
     "data": {
      "text/plain": "               id cell_type                                         annotation\n0    0030fd0e6378    shsy5y  [118145 6 118849 7 119553 8 120257 8 120961 9 ...\n1    0140b3c8f445     astro  [32499 3 33201 7 33902 9 34604 10 35306 11 360...\n2    01ae5a43a2ab      cort  [241026 3 241726 9 242427 13 243130 14 243834 ...\n3    026b3c2c4b32      cort  [170753 5 171454 12 172158 13 172862 13 173565...\n4    029e5b3b89c7      cort  [139142 7 139845 10 140548 13 141251 15 141955...\n..            ...       ...                                                ...\n601  fd98d82784a1     astro  [335979 1 336681 3 337385 3 338088 3 338792 3 ...\n602  fe33dfcf4ebd     astro  [165826 7 166526 14 167199 45 167901 46 168603...\n603  fe3e30f849f4    shsy5y  [343210 3 343912 4 344610 9 345312 10 346014 1...\n604  ffc2ead3e8cc     astro  [252827 1 253531 3 254235 5 254940 5 255644 7 ...\n605  ffdb3cc02eef      cort  [96707 4 97406 10 98110 11 98814 11 99517 12 1...\n\n[606 rows x 3 columns]",
      "text/html": "<div>\n<style scoped>\n    .dataframe tbody tr th:only-of-type {\n        vertical-align: middle;\n    }\n\n    .dataframe tbody tr th {\n        vertical-align: top;\n    }\n\n    .dataframe thead th {\n        text-align: right;\n    }\n</style>\n<table border=\"1\" class=\"dataframe\">\n  <thead>\n    <tr style=\"text-align: right;\">\n      <th></th>\n      <th>id</th>\n      <th>cell_type</th>\n      <th>annotation</th>\n    </tr>\n  </thead>\n  <tbody>\n    <tr>\n      <th>0</th>\n      <td>0030fd0e6378</td>\n      <td>shsy5y</td>\n      <td>[118145 6 118849 7 119553 8 120257 8 120961 9 ...</td>\n    </tr>\n    <tr>\n      <th>1</th>\n      <td>0140b3c8f445</td>\n      <td>astro</td>\n      <td>[32499 3 33201 7 33902 9 34604 10 35306 11 360...</td>\n    </tr>\n    <tr>\n      <th>2</th>\n      <td>01ae5a43a2ab</td>\n      <td>cort</td>\n      <td>[241026 3 241726 9 242427 13 243130 14 243834 ...</td>\n    </tr>\n    <tr>\n      <th>3</th>\n      <td>026b3c2c4b32</td>\n      <td>cort</td>\n      <td>[170753 5 171454 12 172158 13 172862 13 173565...</td>\n    </tr>\n    <tr>\n      <th>4</th>\n      <td>029e5b3b89c7</td>\n      <td>cort</td>\n      <td>[139142 7 139845 10 140548 13 141251 15 141955...</td>\n    </tr>\n    <tr>\n      <th>...</th>\n      <td>...</td>\n      <td>...</td>\n      <td>...</td>\n    </tr>\n    <tr>\n      <th>601</th>\n      <td>fd98d82784a1</td>\n      <td>astro</td>\n      <td>[335979 1 336681 3 337385 3 338088 3 338792 3 ...</td>\n    </tr>\n    <tr>\n      <th>602</th>\n      <td>fe33dfcf4ebd</td>\n      <td>astro</td>\n      <td>[165826 7 166526 14 167199 45 167901 46 168603...</td>\n    </tr>\n    <tr>\n      <th>603</th>\n      <td>fe3e30f849f4</td>\n      <td>shsy5y</td>\n      <td>[343210 3 343912 4 344610 9 345312 10 346014 1...</td>\n    </tr>\n    <tr>\n      <th>604</th>\n      <td>ffc2ead3e8cc</td>\n      <td>astro</td>\n      <td>[252827 1 253531 3 254235 5 254940 5 255644 7 ...</td>\n    </tr>\n    <tr>\n      <th>605</th>\n      <td>ffdb3cc02eef</td>\n      <td>cort</td>\n      <td>[96707 4 97406 10 98110 11 98814 11 99517 12 1...</td>\n    </tr>\n  </tbody>\n</table>\n<p>606 rows × 3 columns</p>\n</div>"
     },
     "execution_count": 12,
     "metadata": {},
     "output_type": "execute_result"
    }
   ],
   "source": [
    "\n",
    "temp_df"
   ],
   "metadata": {
    "collapsed": false,
    "pycharm": {
     "name": "#%%\n"
    }
   }
  }
 ],
 "metadata": {
  "kernelspec": {
   "display_name": "Python 3",
   "language": "python",
   "name": "python3"
  },
  "language_info": {
   "codemirror_mode": {
    "name": "ipython",
    "version": 2
   },
   "file_extension": ".py",
   "mimetype": "text/x-python",
   "name": "python",
   "nbconvert_exporter": "python",
   "pygments_lexer": "ipython2",
   "version": "2.7.6"
  }
 },
 "nbformat": 4,
 "nbformat_minor": 0
}