{
 "cells": [
  {
   "cell_type": "code",
   "execution_count": 2,
   "metadata": {
    "collapsed": true
   },
   "outputs": [],
   "source": [
    "from pathlib import Path\n",
    "\n",
    "import pandas as pd\n",
    "from sklearn.model_selection import train_test_split\n",
    "from torch.utils.data import Dataset, DataLoader\n",
    "from easydict import EasyDict\n",
    "import torch\n",
    "\n",
    "import numpy as np\n",
    "\n",
    "np.random.seed(0)"
   ]
  },
  {
   "cell_type": "code",
   "execution_count": null,
   "outputs": [],
   "source": [
    "# Global config of dataset, not tunable parameters\n",
    "config = EasyDict(\n",
    "    dataset_path=Path(\"../data\"),\n",
    "    val_size=0.2,\n",
    ")\n"
   ],
   "metadata": {
    "collapsed": false,
    "pycharm": {
     "name": "#%%\n"
    }
   }
  },
  {
   "cell_type": "code",
   "execution_count": null,
   "outputs": [],
   "source": [
    "\n",
    "class CellDataset(Dataset):\n",
    "    def __init__(self, cfg: EasyDict, mode: str):\n",
    "        assert mode == 'train' or mode == 'test'\n",
    "        self.image_folder = cfg.dataset_path / \"train\"\n",
    "\n",
    "        data_csv = pd.read_csv(cfg.dataset_path / \"train.csv\")\n",
    "        data_csv = data_csv[['id', 'annotation', 'cell_type']]\n",
    "        data_csv = data_csv.groupby(['id', 'cell_type'])['annotation'].agg(lambda x: list(x)).reset_index()\n",
    "\n",
    "        # Now data_csv has 606 rows with 3 columns:\n",
    "        # - id - id of image,\n",
    "        # - cell_type - type of cell,\n",
    "        # - annotation - list of rle strings\n",
    "        if mode == 'train':\n",
    "            self.data_csv, _ = train_test_split(data_csv, test_size=cfg.val_size, random_state=0)\n",
    "\n",
    "        else:\n",
    "            _, self.data_csv = train_test_split(data_csv, test_size=cfg.val_size, random_state=0)\n",
    "\n",
    "\n",
    "\n",
    "\n"
   ],
   "metadata": {
    "collapsed": false,
    "pycharm": {
     "name": "#%%\n"
    }
   }
  },
  {
   "cell_type": "code",
   "execution_count": 12,
   "outputs": [],
   "source": [],
   "metadata": {
    "collapsed": false,
    "pycharm": {
     "name": "#%%\n"
    }
   }
  }
 ],
 "metadata": {
  "kernelspec": {
   "display_name": "Python 3",
   "language": "python",
   "name": "python3"
  },
  "language_info": {
   "codemirror_mode": {
    "name": "ipython",
    "version": 2
   },
   "file_extension": ".py",
   "mimetype": "text/x-python",
   "name": "python",
   "nbconvert_exporter": "python",
   "pygments_lexer": "ipython2",
   "version": "2.7.6"
  }
 },
 "nbformat": 4,
 "nbformat_minor": 0
}