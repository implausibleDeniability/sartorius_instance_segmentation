{
 "cells": [
  {
   "cell_type": "code",
   "execution_count": 1,
   "metadata": {},
   "outputs": [],
   "source": [
    "# !mkdir mmdetection/configs/sartorius"
   ]
  },
  {
   "cell_type": "markdown",
   "metadata": {},
   "source": [
    "[Kaggle notebook for mmdetection on sartorius](https://www.kaggle.com/awsaf49/sartorius-mmdetection-train#Custom-Config)  \n",
    "[mmdetection docs with tutorials](https://mmdetection.readthedocs.io/en/latest/3_exist_data_new_model.html)"
   ]
  },
  {
   "cell_type": "markdown",
   "metadata": {},
   "source": [
    "# My model"
   ]
  },
  {
   "cell_type": "code",
   "execution_count": 2,
   "metadata": {},
   "outputs": [
    {
     "name": "stdout",
     "output_type": "stream",
     "text": [
      "Overwriting mmdetection/configs/sartorius/my_model.py\n"
     ]
    }
   ],
   "source": [
    "%%writefile mmdetection/configs/sartorius/my_model.py\n",
    "_base_ = '../cascade_rcnn/cascade_mask_rcnn_r50_fpn_20e_coco.py'\n",
    "############## HERE THE COPYPASTE STARTS ###############\n",
    "# copypasted from mmdetection/configs/cascade_mask_rcn_r50_fpn_20e_coco.py\n",
    "# the only changed thing is the number of classes (changed in 3 lines)\n",
    "NUM_CLASSES = 3\n",
    "bbox_head=[\n",
    "    dict(\n",
    "        type='Shared2FCBBoxHead',\n",
    "        in_channels=256,\n",
    "        fc_out_channels=1024,\n",
    "        roi_feat_size=7,\n",
    "        num_classes=NUM_CLASSES,\n",
    "        bbox_coder=dict(\n",
    "            type='DeltaXYWHBBoxCoder',\n",
    "            target_means=[0., 0., 0., 0.],\n",
    "            target_stds=[0.1, 0.1, 0.2, 0.2]),\n",
    "        reg_class_agnostic=True,\n",
    "        loss_cls=dict(\n",
    "            type='CrossEntropyLoss',\n",
    "            use_sigmoid=False,\n",
    "            loss_weight=1.0),\n",
    "        loss_bbox=dict(type='SmoothL1Loss', beta=1.0,\n",
    "                       loss_weight=1.0)),\n",
    "    dict(\n",
    "        type='Shared2FCBBoxHead',\n",
    "        in_channels=256,\n",
    "        fc_out_channels=1024,\n",
    "        roi_feat_size=7,\n",
    "        num_classes=NUM_CLASSES,\n",
    "        bbox_coder=dict(\n",
    "            type='DeltaXYWHBBoxCoder',\n",
    "            target_means=[0., 0., 0., 0.],\n",
    "            target_stds=[0.05, 0.05, 0.1, 0.1]),\n",
    "        reg_class_agnostic=True,\n",
    "        loss_cls=dict(\n",
    "            type='CrossEntropyLoss',\n",
    "            use_sigmoid=False,\n",
    "            loss_weight=1.0),\n",
    "        loss_bbox=dict(type='SmoothL1Loss', beta=1.0,\n",
    "                       loss_weight=1.0)),\n",
    "    dict(\n",
    "        type='Shared2FCBBoxHead',\n",
    "        in_channels=256,\n",
    "        fc_out_channels=1024,\n",
    "        roi_feat_size=7,\n",
    "        num_classes=NUM_CLASSES,\n",
    "        bbox_coder=dict(\n",
    "            type='DeltaXYWHBBoxCoder',\n",
    "            target_means=[0., 0., 0., 0.],\n",
    "            target_stds=[0.033, 0.033, 0.067, 0.067]),\n",
    "        reg_class_agnostic=True,\n",
    "        loss_cls=dict(\n",
    "            type='CrossEntropyLoss',\n",
    "            use_sigmoid=False,\n",
    "            loss_weight=1.0),\n",
    "        loss_bbox=dict(type='SmoothL1Loss', beta=1.0, loss_weight=1.0))\n",
    "]\n",
    "################### HERE THE COPYPASTE FINISHES #############\n",
    "\n",
    "# We also need to change the num_classes in head to match the dataset's annotation\n",
    "model = dict(\n",
    "    roi_head=dict(\n",
    "        bbox_head=bbox_head,\n",
    "        mask_head=dict(num_classes=3)))\n",
    "\n",
    "# Modify dataset related settings\n",
    "dataset_type = 'COCODataset'\n",
    "classes = ('astro', 'shsy5y', 'cort',)\n",
    "data = dict(\n",
    "    samples_per_gpu=6,\n",
    "    workers_per_gpu=18,\n",
    "    train=dict(\n",
    "        img_prefix='/data/kaggle_data/',\n",
    "        classes=classes,\n",
    "        ann_file='/data/mmdet/annotations_train.json'),\n",
    "    val=dict(\n",
    "        img_prefix='/data/kaggle_data/',\n",
    "        classes=classes,\n",
    "        ann_file='/data/mmdet/annotations_val.json'),\n",
    "    test=dict(\n",
    "        img_prefix='/data/kaggle_data/',\n",
    "        classes=classes,\n",
    "        ann_file='/data/mmdet/annotations_val.json'),\n",
    "    )\n",
    "checkpoint_config = dict(interval=6)"
   ]
  },
  {
   "cell_type": "markdown",
   "metadata": {
    "papermill": {
     "duration": 0.064003,
     "end_time": "2021-10-24T01:25:20.371727",
     "exception": false,
     "start_time": "2021-10-24T01:25:20.307724",
     "status": "completed"
    },
    "tags": []
   },
   "source": [
    "# Inference"
   ]
  },
  {
   "cell_type": "code",
   "execution_count": 3,
   "metadata": {},
   "outputs": [],
   "source": [
    "!ls data"
   ]
  },
  {
   "cell_type": "code",
   "execution_count": 4,
   "metadata": {},
   "outputs": [
    {
     "name": "stdout",
     "output_type": "stream",
     "text": [
      "loading annotations into memory...\n",
      "Done (t=0.14s)\n",
      "creating index...\n",
      "index created!\n",
      "load checkpoint from local path: ../mmdet_workdir/epoch_20.pth\n",
      "[>>>>>>>>>>>>>>>>>>>>>>>>>>>>>>>>] 61/61, 5.2 task/s, elapsed: 12s, ETA:     0s\n",
      "writing results to ../mmdet_workdir/my_model.pkl\n"
     ]
    }
   ],
   "source": [
    "conf_name = 'my_model'\n",
    "config = f'configs/sartorius/{conf_name}.py'\n",
    "model_file = f'../mmdet_workdir/epoch_20.pth'\n",
    "result_pkl = f'../mmdet_workdir/{conf_name}.pkl'\n",
    "additional_conf = '--cfg-options'\n",
    "additional_conf += f' test_cfg.rcnn.score_thr={0.5}'\n",
    "cmd = f'python tools/test.py {config} {model_file} --out {result_pkl}'\n",
    "!cd mmdetection; {cmd}"
   ]
  },
  {
   "cell_type": "code",
   "execution_count": 5,
   "metadata": {},
   "outputs": [],
   "source": [
    "import pickle\n",
    "result = pickle.load(open('mmdet_workdir/my_model.pkl', 'rb'))"
   ]
  },
  {
   "cell_type": "code",
   "execution_count": 7,
   "metadata": {},
   "outputs": [],
   "source": [
    "from src.postprocessing import postprocess_mmdet_predictions\n",
    "preds = postprocess_mmdet_predictions(result)"
   ]
  },
  {
   "cell_type": "code",
   "execution_count": 8,
   "metadata": {},
   "outputs": [
    {
     "data": {
      "text/plain": [
       "<matplotlib.image.AxesImage at 0x7fe7330737c0>"
      ]
     },
     "execution_count": 8,
     "metadata": {},
     "output_type": "execute_result"
    },
    {
     "data": {
      "image/png": "[encoded data removed]",
      "text/plain": [
       "<Figure size 432x288 with 1 Axes>"
      ]
     },
     "metadata": {
      "needs_background": "light"
     },
     "output_type": "display_data"
    }
   ],
   "source": [
    "from matplotlib import pyplot as plt\n",
    "plt.imshow(preds[0]['masks'].max(axis=0))"
   ]
  }
 ],
 "metadata": {
  "kernelspec": {
   "display_name": "Python 3 (ipykernel)",
   "language": "python",
   "name": "python3"
  },
  "language_info": {
   "codemirror_mode": {
    "name": "ipython",
    "version": 3
   },
   "file_extension": ".py",
   "mimetype": "text/x-python",
   "name": "python",
   "nbconvert_exporter": "python",
   "pygments_lexer": "ipython3",
   "version": "3.9.7"
  },
  "papermill": {
   "default_parameters": {},
   "duration": 14991.655442,
   "end_time": "2021-10-24T05:17:47.590133",
   "environment_variables": {},
   "exception": null,
   "input_path": "__notebook__.ipynb",
   "output_path": "__notebook__.ipynb",
   "parameters": {},
   "start_time": "2021-10-24T01:07:55.934691",
   "version": "2.2.2"
  },
  "widgets": {
   "application/vnd.jupyter.widget-state+json": {
    "state": {
     "520eb1936f034c8984e178d841ac6e95": {
      "model_module": "@jupyter-widgets/base",
      "model_module_version": "1.2.0",
      "model_name": "LayoutModel",
      "state": {
       "_model_module": "@jupyter-widgets/base",
       "_model_module_version": "1.2.0",
       "_model_name": "LayoutModel",
       "_view_count": null,
       "_view_module": "@jupyter-widgets/base",
       "_view_module_version": "1.2.0",
       "_view_name": "LayoutView",
       "align_content": null,
       "align_items": null,
       "align_self": null,
       "border": null,
       "bottom": null,
       "display": null,
       "flex": null,
       "flex_flow": null,
       "grid_area": null,
       "grid_auto_columns": null,
       "grid_auto_flow": null,
       "grid_auto_rows": null,
       "grid_column": null,
       "grid_gap": null,
       "grid_row": null,
       "grid_template_areas": null,
       "grid_template_columns": null,
       "grid_template_rows": null,
       "height": null,
       "justify_content": null,
       "justify_items": null,
       "left": null,
       "margin": null,
       "max_height": null,
       "max_width": null,
       "min_height": null,
       "min_width": null,
       "object_fit": null,
       "object_position": null,
       "order": null,
       "overflow": null,
       "overflow_x": null,
       "overflow_y": null,
       "padding": null,
       "right": null,
       "top": null,
       "visibility": null,
       "width": null
      }
     },
     "59f7bea2212f4b299f7415c4ccc73a8d": {
      "model_module": "@jupyter-widgets/controls",
      "model_module_version": "1.5.0",
      "model_name": "HBoxModel",
      "state": {
       "_dom_classes": [],
       "_model_module": "@jupyter-widgets/controls",
       "_model_module_version": "1.5.0",
       "_model_name": "HBoxModel",
       "_view_count": null,
       "_view_module": "@jupyter-widgets/controls",
       "_view_module_version": "1.5.0",
       "_view_name": "HBoxView",
       "box_style": "",
       "children": [
        "IPY_MODEL_b726fb58034b49dabcb1bfaba0d316f4",
        "IPY_MODEL_7e08402e0a4b4eefad50a6130d38e605",
        "IPY_MODEL_d03796be75944a83b05aff8be6aae7a3"
       ],
       "layout": "IPY_MODEL_520eb1936f034c8984e178d841ac6e95"
      }
     },
     "6bf9279509294236aadb754ab6badac3": {
      "model_module": "@jupyter-widgets/controls",
      "model_module_version": "1.5.0",
      "model_name": "DescriptionStyleModel",
      "state": {
       "_model_module": "@jupyter-widgets/controls",
       "_model_module_version": "1.5.0",
       "_model_name": "DescriptionStyleModel",
       "_view_count": null,
       "_view_module": "@jupyter-widgets/base",
       "_view_module_version": "1.2.0",
       "_view_name": "StyleView",
       "description_width": ""
      }
     },
     "7e08402e0a4b4eefad50a6130d38e605": {
      "model_module": "@jupyter-widgets/controls",
      "model_module_version": "1.5.0",
      "model_name": "FloatProgressModel",
      "state": {
       "_dom_classes": [],
       "_model_module": "@jupyter-widgets/controls",
       "_model_module_version": "1.5.0",
       "_model_name": "FloatProgressModel",
       "_view_count": null,
       "_view_module": "@jupyter-widgets/controls",
       "_view_module_version": "1.5.0",
       "_view_name": "ProgressView",
       "bar_style": "success",
       "description": "",
       "description_tooltip": null,
       "layout": "IPY_MODEL_e498391767fa41728e8fdf186362c0f1",
       "max": 606,
       "min": 0,
       "orientation": "horizontal",
       "style": "IPY_MODEL_c214c33af53342d6b2faf4f52e0bb6ec",
       "value": 606
      }
     },
     "b16d0c53cb094aa3ae18ae97850eb512": {
      "model_module": "@jupyter-widgets/base",
      "model_module_version": "1.2.0",
      "model_name": "LayoutModel",
      "state": {
       "_model_module": "@jupyter-widgets/base",
       "_model_module_version": "1.2.0",
       "_model_name": "LayoutModel",
       "_view_count": null,
       "_view_module": "@jupyter-widgets/base",
       "_view_module_version": "1.2.0",
       "_view_name": "LayoutView",
       "align_content": null,
       "align_items": null,
       "align_self": null,
       "border": null,
       "bottom": null,
       "display": null,
       "flex": null,
       "flex_flow": null,
       "grid_area": null,
       "grid_auto_columns": null,
       "grid_auto_flow": null,
       "grid_auto_rows": null,
       "grid_column": null,
       "grid_gap": null,
       "grid_row": null,
       "grid_template_areas": null,
       "grid_template_columns": null,
       "grid_template_rows": null,
       "height": null,
       "justify_content": null,
       "justify_items": null,
       "left": null,
       "margin": null,
       "max_height": null,
       "max_width": null,
       "min_height": null,
       "min_width": null,
       "object_fit": null,
       "object_position": null,
       "order": null,
       "overflow": null,
       "overflow_x": null,
       "overflow_y": null,
       "padding": null,
       "right": null,
       "top": null,
       "visibility": null,
       "width": null
      }
     },
     "b53d9e8365a64dffafd10a4052c180d7": {
      "model_module": "@jupyter-widgets/base",
      "model_module_version": "1.2.0",
      "model_name": "LayoutModel",
      "state": {
       "_model_module": "@jupyter-widgets/base",
       "_model_module_version": "1.2.0",
       "_model_name": "LayoutModel",
       "_view_count": null,
       "_view_module": "@jupyter-widgets/base",
       "_view_module_version": "1.2.0",
       "_view_name": "LayoutView",
       "align_content": null,
       "align_items": null,
       "align_self": null,
       "border": null,
       "bottom": null,
       "display": null,
       "flex": null,
       "flex_flow": null,
       "grid_area": null,
       "grid_auto_columns": null,
       "grid_auto_flow": null,
       "grid_auto_rows": null,
       "grid_column": null,
       "grid_gap": null,
       "grid_row": null,
       "grid_template_areas": null,
       "grid_template_columns": null,
       "grid_template_rows": null,
       "height": null,
       "justify_content": null,
       "justify_items": null,
       "left": null,
       "margin": null,
       "max_height": null,
       "max_width": null,
       "min_height": null,
       "min_width": null,
       "object_fit": null,
       "object_position": null,
       "order": null,
       "overflow": null,
       "overflow_x": null,
       "overflow_y": null,
       "padding": null,
       "right": null,
       "top": null,
       "visibility": null,
       "width": null
      }
     },
     "b726fb58034b49dabcb1bfaba0d316f4": {
      "model_module": "@jupyter-widgets/controls",
      "model_module_version": "1.5.0",
      "model_name": "HTMLModel",
      "state": {
       "_dom_classes": [],
       "_model_module": "@jupyter-widgets/controls",
       "_model_module_version": "1.5.0",
       "_model_name": "HTMLModel",
       "_view_count": null,
       "_view_module": "@jupyter-widgets/controls",
       "_view_module_version": "1.5.0",
       "_view_name": "HTMLView",
       "description": "",
       "description_tooltip": null,
       "layout": "IPY_MODEL_b53d9e8365a64dffafd10a4052c180d7",
       "placeholder": "​",
       "style": "IPY_MODEL_6bf9279509294236aadb754ab6badac3",
       "value": "100%"
      }
     },
     "b80d666753234f8f98a99a9b7ed5d6e7": {
      "model_module": "@jupyter-widgets/controls",
      "model_module_version": "1.5.0",
      "model_name": "DescriptionStyleModel",
      "state": {
       "_model_module": "@jupyter-widgets/controls",
       "_model_module_version": "1.5.0",
       "_model_name": "DescriptionStyleModel",
       "_view_count": null,
       "_view_module": "@jupyter-widgets/base",
       "_view_module_version": "1.2.0",
       "_view_name": "StyleView",
       "description_width": ""
      }
     },
     "c214c33af53342d6b2faf4f52e0bb6ec": {
      "model_module": "@jupyter-widgets/controls",
      "model_module_version": "1.5.0",
      "model_name": "ProgressStyleModel",
      "state": {
       "_model_module": "@jupyter-widgets/controls",
       "_model_module_version": "1.5.0",
       "_model_name": "ProgressStyleModel",
       "_view_count": null,
       "_view_module": "@jupyter-widgets/base",
       "_view_module_version": "1.2.0",
       "_view_name": "StyleView",
       "bar_color": null,
       "description_width": ""
      }
     },
     "d03796be75944a83b05aff8be6aae7a3": {
      "model_module": "@jupyter-widgets/controls",
      "model_module_version": "1.5.0",
      "model_name": "HTMLModel",
      "state": {
       "_dom_classes": [],
       "_model_module": "@jupyter-widgets/controls",
       "_model_module_version": "1.5.0",
       "_model_name": "HTMLModel",
       "_view_count": null,
       "_view_module": "@jupyter-widgets/controls",
       "_view_module_version": "1.5.0",
       "_view_name": "HTMLView",
       "description": "",
       "description_tooltip": null,
       "layout": "IPY_MODEL_b16d0c53cb094aa3ae18ae97850eb512",
       "placeholder": "​",
       "style": "IPY_MODEL_b80d666753234f8f98a99a9b7ed5d6e7",
       "value": " 606/606 [16:23&lt;00:00,  1.31s/it]"
      }
     },
     "e498391767fa41728e8fdf186362c0f1": {
      "model_module": "@jupyter-widgets/base",
      "model_module_version": "1.2.0",
      "model_name": "LayoutModel",
      "state": {
       "_model_module": "@jupyter-widgets/base",
       "_model_module_version": "1.2.0",
       "_model_name": "LayoutModel",
       "_view_count": null,
       "_view_module": "@jupyter-widgets/base",
       "_view_module_version": "1.2.0",
       "_view_name": "LayoutView",
       "align_content": null,
       "align_items": null,
       "align_self": null,
       "border": null,
       "bottom": null,
       "display": null,
       "flex": null,
       "flex_flow": null,
       "grid_area": null,
       "grid_auto_columns": null,
       "grid_auto_flow": null,
       "grid_auto_rows": null,
       "grid_column": null,
       "grid_gap": null,
       "grid_row": null,
       "grid_template_areas": null,
       "grid_template_columns": null,
       "grid_template_rows": null,
       "height": null,
       "justify_content": null,
       "justify_items": null,
       "left": null,
       "margin": null,
       "max_height": null,
       "max_width": null,
       "min_height": null,
       "min_width": null,
       "object_fit": null,
       "object_position": null,
       "order": null,
       "overflow": null,
       "overflow_x": null,
       "overflow_y": null,
       "padding": null,
       "right": null,
       "top": null,
       "visibility": null,
       "width": null
      }
     }
    },
    "version_major": 2,
    "version_minor": 0
   }
  }
 },
 "nbformat": 4,
 "nbformat_minor": 4
}
